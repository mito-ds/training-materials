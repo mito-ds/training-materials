{
 "cells": [
  {
   "cell_type": "markdown",
   "id": "d0489752-a56d-46d0-a991-c171d46272f2",
   "metadata": {},
   "source": [
    "# Hands-on tasks\n",
    "⏱️ 15 min.  \n",
    "🧑‍💻 Write a python function that prints prime numbers till a given value n."
   ]
  },
  {
   "cell_type": "code",
   "execution_count": null,
   "id": "c747ff4f-4ea1-405f-92a2-3464b41883bc",
   "metadata": {},
   "outputs": [],
   "source": []
  },
  {
   "cell_type": "markdown",
   "id": "f2705f5b-e598-43ba-be45-be8d00a4b734",
   "metadata": {},
   "source": [
    "🧑‍💻 Write a program that checks the strength of a password based on criteria like length, presence of uppercase letters, lowercase letters, numbers, and special characters.\n",
    "\n"
   ]
  },
  {
   "cell_type": "code",
   "execution_count": null,
   "id": "35db6702-a129-4328-a587-5070a2d45a30",
   "metadata": {},
   "outputs": [],
   "source": []
  },
  {
   "cell_type": "code",
   "execution_count": null,
   "id": "48c0e1e7-f444-4eda-9eba-2065612922f9",
   "metadata": {},
   "outputs": [],
   "source": []
  }
 ],
 "metadata": {
  "kernelspec": {
   "display_name": "Python 3 (ipykernel)",
   "language": "python",
   "name": "python3"
  },
  "language_info": {
   "codemirror_mode": {
    "name": "ipython",
    "version": 3
   },
   "file_extension": ".py",
   "mimetype": "text/x-python",
   "name": "python",
   "nbconvert_exporter": "python",
   "pygments_lexer": "ipython3",
   "version": "3.11.4"
  }
 },
 "nbformat": 4,
 "nbformat_minor": 5
}
