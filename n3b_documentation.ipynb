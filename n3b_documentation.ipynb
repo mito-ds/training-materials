{
 "cells": [
  {
   "cell_type": "markdown",
   "metadata": {
    "vscode": {
     "languageId": "plaintext"
    }
   },
   "source": [
    "# Documenting Software\n",
    "\n",
    "⏱️ 30 min.\n",
    "\n",
    "\"Ah!\" you think, \"this will be easy. I just wrote this code last month, so I should be able to track down the source of this bug and fix it up in about 2 minutes.\"\n",
    "\n",
    "2 hours pass. Your hope has faded, and you're now just adding random print statements to your code to figure out which code path is even being executed. \n",
    "\n",
    "Want to avoid having to spend hours debugging your own code after just taking a few weeks away from it? Want to make it easy for your Python processes to outlive your time in this role? \n",
    "\n",
    "The answer to both of these problems is **documentation.**"
   ]
  },
  {
   "cell_type": "markdown",
   "metadata": {},
   "source": [
    "## Documenting Code"
   ]
  },
  {
   "cell_type": "markdown",
   "metadata": {},
   "source": [
    "Functions are the basic unit of work in Python. As such, it can be very helpful to leave a few sentences that describes the inputs the functions takes, the outputs the function returns, and a high-level description of what the function does."
   ]
  },
  {
   "cell_type": "code",
   "execution_count": null,
   "metadata": {
    "tags": []
   },
   "outputs": [],
   "source": [
    "def add(x, y):\n",
    "    \"\"\"\n",
    "    Adds two numbers and returns the result.\n",
    "\n",
    "    Parameters:\n",
    "    x (numeric): The first number to be added.\n",
    "    y (numeric): The second number to be added.\n",
    "\n",
    "    Returns:\n",
    "    numeric: The sum of x and y.\n",
    "\n",
    "    Example:\n",
    "    >>> add(2, 3)\n",
    "    5\n",
    "    \"\"\"\n",
    "    return x + y"
   ]
  },
  {
   "cell_type": "markdown",
   "metadata": {},
   "source": [
    "💡 A **function** is usually documented in the _doc string_. It comes right below the function defintion, and is inside of triple quotes \"\"\"\n",
    "\n",
    "Notably, you can use the builtin `help` function in Python to get the doc string out of any function that has one. This can be incredibly helpful when you're writing code that uses functions you wrote a long-time ago, or functions that were written by someone else."
   ]
  },
  {
   "cell_type": "code",
   "execution_count": null,
   "metadata": {
    "tags": []
   },
   "outputs": [],
   "source": [
    "help(add)"
   ]
  },
  {
   "cell_type": "markdown",
   "metadata": {
    "tags": []
   },
   "source": [
    "If there are limitations to your add function that someone (including yourself) might not expect and might trip them up, then you likely want to add that into the doc string. Depending on the limitations, it might be reasonable to add this information to the function name. "
   ]
  },
  {
   "cell_type": "code",
   "execution_count": null,
   "metadata": {
    "tags": []
   },
   "outputs": [],
   "source": [
    "def add_poss(x, y):\n",
    "    \"\"\"\n",
    "    Adds two _positive_ numbers and returns the result. \n",
    "\n",
    "    Parameters:\n",
    "    x (numeric): The first number to be added. Must be > 0\n",
    "    y (numeric): The second number to be added. Must be > 0\n",
    "\n",
    "    Returns:\n",
    "    numeric: The sum of x and y.\n",
    "\n",
    "    Example:\n",
    "    >>> add(2, 3)\n",
    "    5\n",
    "    \"\"\"\n",
    "    if x > 0 and y > 0:\n",
    "        return x + y\n",
    "    \n",
    "    raise Exception(f\"{x} and {y} must both be positive numbers.\")"
   ]
  },
  {
   "cell_type": "markdown",
   "metadata": {},
   "source": [
    "🧑‍💻 Let's try writing our first doc string for a function, by writing documentation for the `check_contains_substring` function below and then using the `help` function to confirm you have written it correctly."
   ]
  },
  {
   "cell_type": "code",
   "execution_count": null,
   "metadata": {
    "tags": []
   },
   "outputs": [],
   "source": [
    "def check_contains_substring(full_string, substring):\n",
    "    # TODO: write a doc string here\n",
    "    return substring in full_string"
   ]
  },
  {
   "cell_type": "code",
   "execution_count": null,
   "metadata": {
    "tags": []
   },
   "outputs": [],
   "source": [
    "# This should print your doc string if you have done it correctly.\n",
    "help(check_contains_substring) "
   ]
  },
  {
   "cell_type": "markdown",
   "metadata": {
    "tags": []
   },
   "source": [
    "## Documenting specific lines of code\n"
   ]
  },
  {
   "cell_type": "markdown",
   "metadata": {},
   "source": [
    "So we have documentation defined on functions. But sometimes you want to go edit the internals of a function, and the function doc string might not be helpful. \n",
    "\n",
    "Sometimes, well-placed comments can immediately clarify what the purpose of some code is. \n",
    "\n",
    "Consider the follow pseudo-code function:"
   ]
  },
  {
   "cell_type": "code",
   "execution_count": null,
   "metadata": {
    "tags": []
   },
   "outputs": [],
   "source": [
    "def get_portfolio_return(start_date):\n",
    "    \n",
    "    total_return = 0\n",
    "    \n",
    "    if start_date < '1-1-2010':\n",
    "        total_return = get_pre_2010_return(start_date)\n",
    "    \n",
    "    # ... the rest of the code to calculate return here\n",
    "    "
   ]
  },
  {
   "cell_type": "markdown",
   "metadata": {},
   "source": [
    "What is the purpose of the `if` statement? Who can say, except the author? Let's consider the following comments and see what is the most helpful."
   ]
  },
  {
   "cell_type": "code",
   "execution_count": null,
   "metadata": {
    "tags": []
   },
   "outputs": [],
   "source": [
    "def get_portfolio_return(start_date):\n",
    "    \n",
    "    total_return = 0\n",
    "   \n",
    "    # If start_date < '1-1-2010', then get_pre_2010_return and adjust the total\n",
    "    # return with it. Then, bump the start date to 1-1-2010\n",
    "    if start_date < '1-1-2010':\n",
    "        total_return += get_pre_2010_return(start_date)\n",
    "        start_date = '1-1-2010'\n",
    "    \n",
    "    # ... the rest of the code to calculate return here\n",
    "    "
   ]
  },
  {
   "cell_type": "code",
   "execution_count": null,
   "metadata": {
    "tags": []
   },
   "outputs": [],
   "source": [
    "def get_portfolio_return(start_date):\n",
    "    \n",
    "    total_return = 0\n",
    "   \n",
    "    # Handle the special case, and make sure to adjust the total return\n",
    "    # as well as the start date. \n",
    "    if start_date < '1-1-2010':\n",
    "        total_return = get_pre_2010_return(start_date)\n",
    "        start_date = '1-1-2010'\n",
    "    \n",
    "    # ... the rest of the code to calculate return here\n",
    "    "
   ]
  },
  {
   "cell_type": "code",
   "execution_count": null,
   "metadata": {
    "tags": []
   },
   "outputs": [],
   "source": [
    "def get_portfolio_return(start_date):\n",
    "    \n",
    "    total_return = 0\n",
    "   \n",
    "    # Before Jan 1 2010, we calculated return using a different base rate, so we handle\n",
    "    # that in a seperate function for clarity\n",
    "    if start_date < '1-1-2010':\n",
    "        total_return = get_pre_2010_return(start_date)\n",
    "        start_date = '1-1-2010'\n",
    "    \n",
    "    # ... the rest of the code to calculate return here\n",
    "    "
   ]
  },
  {
   "cell_type": "markdown",
   "metadata": {},
   "source": [
    "🧑‍💻 **Pause here. What documentation above is the most helpful to you?**"
   ]
  },
  {
   "cell_type": "markdown",
   "metadata": {},
   "source": [
    "💡 Useful documentation for code usually avoids saying _what_ is happening. Instead, good documentation will tell you _why_ some code exists -- what problem it is meant to solve!\n",
    "\n",
    "For that reason, the third example of documentation is the best example. When these three examples are laid out, it's pretty clear that the third example is by far the most helpful one in understanding this code!"
   ]
  },
  {
   "cell_type": "markdown",
   "metadata": {
    "tags": []
   },
   "source": [
    "## Documenting a process"
   ]
  },
  {
   "cell_type": "markdown",
   "metadata": {},
   "source": [
    "Ok, so we have documentation for anyone who wants to read and edit the code. But what about if you need to give this automated process to someone else? In that case, they need some instructions on how to run the process from scratch. \n",
    "\n",
    "To document how to run a process:\n",
    "1. Describe the computer/system requirements for running the process (or standardize infrastructure). \n",
    "2. Describe the input data format (if there is any). Include where the data comes from as well as what it should look like. \n",
    "3. Describe the output format to expect.\n",
    "4. Document the _specific_ and _concrete_ steps that are required to run the process.\n",
    "5. Test the above steps by having someone else try and follow them!\n",
    "6. Improve the documentation based on (5)\n",
    "\n",
    "Actually testing your documentation is likely the most important part of the entire process. Because you implemented a process, it can seem obvious to you what your code and documentation is meant to communicate. Getting a fresh set of eyes is the best way to make sure your documentation is useful to others (and yourself in a few months!)"
   ]
  },
  {
   "cell_type": "markdown",
   "metadata": {},
   "source": [
    "🧑‍💻 Let's go write some documentation for a process of yours!"
   ]
  },
  {
   "cell_type": "markdown",
   "metadata": {
    "tags": []
   },
   "source": [
    "# Keeping documentation updated"
   ]
  },
  {
   "cell_type": "markdown",
   "metadata": {},
   "source": [
    "Because it's possible to change code without updating documentation, it's easy for documentation to get out of date.\n",
    "\n",
    "Out of date documentation can be as harmful as no documentation (think of the confusion), so you should only write documentation that you're going to be able to maintain!\n",
    "\n",
    "The optimal amount of documentation is:\n",
    "1. Enough that reading, writing or using the code is easy.\n",
    "2. It is easy to keep the documentation in sync with the code. \n",
    "\n",
    "There are no hard-rules on how many lines of documentation this is, but general best practices is:\n",
    "1. Always document the full process so someone else can run it if you are not there.\n",
    "2. Document all functions that are not immediately obvious.\n",
    "3. Document the most confusing lines of code, or at least the lines of code you're most likely to be confused by in the future.\n",
    "\n",
    "You do not need to document every line of code, and doing so will likely do more harm then good!"
   ]
  }
 ],
 "metadata": {
  "kernelspec": {
   "display_name": "Python 3 (ipykernel)",
   "language": "python",
   "name": "python3"
  },
  "language_info": {
   "codemirror_mode": {
    "name": "ipython",
    "version": 3
   },
   "file_extension": ".py",
   "mimetype": "text/x-python",
   "name": "python",
   "nbconvert_exporter": "python",
   "pygments_lexer": "ipython3",
   "version": "3.9.6"
  },
  "vscode": {
   "interpreter": {
    "hash": "31f2aee4e71d21fbe5cf8b01ff0e069b9275f58929596ceb00d14d90e3e16cd6"
   }
  }
 },
 "nbformat": 4,
 "nbformat_minor": 4
}
