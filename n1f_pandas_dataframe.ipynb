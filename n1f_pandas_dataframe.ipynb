{
 "cells": [
  {
   "attachments": {},
   "cell_type": "markdown",
   "metadata": {
    "vscode": {
     "languageId": "plaintext"
    }
   },
   "source": [
    "# Hands-on Pandas \n",
    "⏱️ 40 min.  \n",
    "\n",
    "Pandas is a a powerfull and whitely used tool for data analysis and manipulation.  \n",
    "\n",
    "Mito will later generate pandas code for us, so having an understanding the fundamentals of pandas will help us to better understand mito later.\n",
    "\n",
    "In the last part of today's session, we will learn about dataframes, series, and some basic analysis tools that we can access here.\n",
    "\n",
    "In the end, we will also have a short glimps on mito."
   ]
  },
  {
   "attachments": {},
   "cell_type": "markdown",
   "metadata": {},
   "source": [
    "# Dataframes and Series"
   ]
  },
  {
   "attachments": {},
   "cell_type": "markdown",
   "metadata": {},
   "source": []
  }
 ],
 "metadata": {
  "kernelspec": {
   "display_name": ".venv",
   "language": "python",
   "name": "python3"
  },
  "language_info": {
   "name": "python",
   "version": "3.11.4"
  },
  "orig_nbformat": 4
 },
 "nbformat": 4,
 "nbformat_minor": 2
}
