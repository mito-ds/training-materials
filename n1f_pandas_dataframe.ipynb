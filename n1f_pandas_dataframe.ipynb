{
 "cells": [
  {
   "attachments": {},
   "cell_type": "markdown",
   "metadata": {
    "vscode": {
     "languageId": "plaintext"
    }
   },
   "source": [
    "# Hands-on Pandas\n",
    "\n",
    "⏱️ 40 min.\n",
    "\n",
    "Pandas is a powerfull and widely used tool for data analysis and manipulation. It allows us to work with tables of data, instead of just individual numbers or lists.\n",
    "\n",
    "We're going to use Mito to generate a lot of pandas code for us, but in this section we'll learn the fundamentals of pandas. Having this background will allow us to understand and edit the code that Mito generates.\n",
    "\n",
    "In this notebook, we'll learn about dataframes and series -- the two main data types in pandas."
   ]
  },
  {
   "attachments": {},
   "cell_type": "markdown",
   "metadata": {},
   "source": [
    "## Dataframes and Series\n"
   ]
  },
  {
   "attachments": {},
   "cell_type": "markdown",
   "metadata": {},
   "source": [
    "Pandas is a package. So just like we did when working with the math module, we have to import it."
   ]
  },
  {
   "cell_type": "code",
   "execution_count": null,
   "metadata": {},
   "outputs": [],
   "source": [
    "import pandas as pd"
   ]
  },
  {
   "attachments": {},
   "cell_type": "markdown",
   "metadata": {},
   "source": [
    "💡 **Series** and **DataFrame** two most important data structures in pandas.\n",
    "\n",
    "A Pandas **Series** is a one-dimensional array. Think of it like a column in an Excel sheet.  \n",
    "\n",
    "A Pandas **DataFrame** is a two-dimensional table made up of several Series. Think of it like a table in Excel.\n",
    "\n",
    "Both have an **index** that serves as a unique identifier for each row."
   ]
  },
  {
   "cell_type": "code",
   "execution_count": null,
   "metadata": {},
   "outputs": [],
   "source": [
    "pd.Series([1, 3, 5, 6])"
   ]
  },
  {
   "cell_type": "code",
   "execution_count": null,
   "metadata": {},
   "outputs": [],
   "source": [
    "pd.DataFrame({\n",
    "    'A': [1,2,3],\n",
    "    'B': [4,5,6],\n",
    "    'C': [7,8,9]\n",
    "})"
   ]
  },
  {
   "attachments": {},
   "cell_type": "markdown",
   "metadata": {},
   "source": [
    "🧑‍💻 Store the above dataframe in a variable called df and print it."
   ]
  },
  {
   "cell_type": "code",
   "execution_count": null,
   "metadata": {},
   "outputs": [],
   "source": [
    "# TODO: Replace me with your code"
   ]
  },
  {
   "attachments": {},
   "cell_type": "markdown",
   "metadata": {},
   "source": [
    "💡 Just like in Excel, we can add new columns to our dataframe, calculate the sum of columns, filter columns, etc.\n",
    "\n",
    "🧑‍💻 Run the following code to add column `D`."
   ]
  },
  {
   "cell_type": "code",
   "execution_count": null,
   "metadata": {},
   "outputs": [],
   "source": [
    "df = pd.DataFrame({\n",
    "    'A': [1,2,3],\n",
    "    'B': [4,5,6],\n",
    "    'C': [7,8,9]\n",
    "})\n",
    "df['D'] = 1\n",
    "df"
   ]
  },
  {
   "cell_type": "markdown",
   "metadata": {},
   "source": [
    "🧑‍💻 Run the following code to create a new column `E` that is the sum of `A` and `B`"
   ]
  },
  {
   "cell_type": "code",
   "execution_count": null,
   "metadata": {},
   "outputs": [],
   "source": [
    "df['E'] = df['A'] + df['B']"
   ]
  },
  {
   "attachments": {},
   "cell_type": "markdown",
   "metadata": {},
   "source": [
    "🧑‍💻 Delete column B by running the code below."
   ]
  },
  {
   "cell_type": "code",
   "execution_count": null,
   "metadata": {},
   "outputs": [],
   "source": [
    "df.drop('B', axis=1)\n",
    "df"
   ]
  },
  {
   "attachments": {},
   "cell_type": "markdown",
   "metadata": {},
   "source": [
    "Well, what happend here? Why is B still in the original_df?  \n",
    "\n",
    "The `drop` function **returns** a new dataframe with the updated result instead of editing the dataframe in place. \n",
    "\n",
    "🧑‍💻 Go to the above cell and assign orginial dataframe to the return value by typing `df = df.drop('B', axis=1)`.  \n",
    "\n",
    "Many pandas functions also have the `inplace` parameter. When set to True, the function will update the dataframe inplace. But by default, inplace=False."
   ]
  },
  {
   "cell_type": "code",
   "execution_count": null,
   "metadata": {},
   "outputs": [],
   "source": [
    "new_df = pd.DataFrame({\n",
    "    'A': [1,2,3],\n",
    "    'B': [4,5,6],\n",
    "    'C': [7,8,9]\n",
    "})"
   ]
  },
  {
   "cell_type": "code",
   "execution_count": null,
   "metadata": {},
   "outputs": [],
   "source": [
    "new_df.drop('A', axis=1, inplace=True)\n",
    "new_df"
   ]
  },
  {
   "cell_type": "markdown",
   "metadata": {},
   "source": [
    "Let's explore some other common Pandas operations"
   ]
  },
  {
   "cell_type": "code",
   "execution_count": null,
   "metadata": {},
   "outputs": [],
   "source": [
    "df = pd.DataFrame({\n",
    "    'A': [1,2,3],\n",
    "    'B': [4,5,6],\n",
    "    'C': [7,8,9]\n",
    "})"
   ]
  },
  {
   "cell_type": "code",
   "execution_count": null,
   "metadata": {},
   "outputs": [],
   "source": [
    "df['D'] = (df['C']+df['B']) / df['A']\n",
    "df"
   ]
  },
  {
   "cell_type": "markdown",
   "metadata": {},
   "source": [
    "💡 To filter pandas dataframes, use conditionals."
   ]
  },
  {
   "cell_type": "code",
   "execution_count": null,
   "metadata": {},
   "outputs": [],
   "source": [
    "df = df[df['A'] > 1]\n",
    "df"
   ]
  },
  {
   "cell_type": "markdown",
   "metadata": {},
   "source": [
    "Let's understand how filtering pandas dataframes works by breaking apart the above line of code."
   ]
  },
  {
   "cell_type": "code",
   "execution_count": null,
   "metadata": {},
   "outputs": [],
   "source": [
    "df = pd.DataFrame({\n",
    "    'A': [1,2,3],\n",
    "    'B': [4,5,6],\n",
    "    'C': [7,8,9]\n",
    "})\n",
    "\n",
    "boolean_index = df['A'] > 1\n",
    "boolean_index"
   ]
  },
  {
   "cell_type": "code",
   "execution_count": null,
   "metadata": {},
   "outputs": [],
   "source": [
    "df = df[boolean_index]\n",
    "df"
   ]
  },
  {
   "cell_type": "markdown",
   "metadata": {},
   "source": [
    "Notice that the final df only contains rows that had a True value in the boolean_index.\n",
    "\n",
    "🧑‍💻 Filter the dataframe to only contain rows where the country is Canada.  \n"
   ]
  },
  {
   "cell_type": "code",
   "execution_count": null,
   "metadata": {},
   "outputs": [],
   "source": [
    "countries_df = pd.DataFrame({\n",
    "    'row number': [1, 2, 3, 4],\n",
    "    'country': ['Canada', 'United States', 'Canada', 'Canada']\n",
    "})\n",
    "\n",
    "# TODO: Replace me with your code"
   ]
  },
  {
   "cell_type": "markdown",
   "metadata": {},
   "source": [
    "Pandas supports more complicated operations as well. The following code creates a pivot table!"
   ]
  },
  {
   "cell_type": "code",
   "execution_count": null,
   "metadata": {},
   "outputs": [],
   "source": [
    "df = pd.DataFrame({\n",
    "    'loan_id': [1,1,2,2,3],\n",
    "    'payment': [100,100,97,97,52],\n",
    "})\n",
    "\n",
    "pivot_table = df.pivot_table(\n",
    "    index=['loan_id'],\n",
    "    values=['payment'],\n",
    "    aggfunc={'payment': ['count']}\n",
    ")\n",
    "df_pivot = pivot_table.reset_index()"
   ]
  },
  {
   "cell_type": "markdown",
   "metadata": {},
   "source": [
    "In the next notebook, we'll learn how Mito can make it easy to write these more complicated scripts of pandas code. \n",
    "\n",
    "But before we get there, let's practice and learn some more pandas fundamentals."
   ]
  },
  {
   "cell_type": "markdown",
   "metadata": {},
   "source": [
    "🧑‍💻 Run the following code and correct the errors"
   ]
  },
  {
   "cell_type": "code",
   "execution_count": null,
   "metadata": {},
   "outputs": [],
   "source": [
    "df = pd.DataFrame({\n",
    "    'A': [1,2,3],\n",
    "    'B': [4,5,6],\n",
    "    'C': [7,8]\n",
    "})"
   ]
  },
  {
   "cell_type": "markdown",
   "metadata": {},
   "source": [
    "Because a dataframe is a table, each column needs to have the same number of rows.\n",
    "\n",
    "🧑‍💻 Run the following code and correct the errors"
   ]
  },
  {
   "cell_type": "code",
   "execution_count": null,
   "metadata": {},
   "outputs": [],
   "source": [
    "df = pd.DataFrame({\n",
    "    'A': [1,2,3],\n",
    "    'B': [4,5,6],\n",
    "    'C': [7,8,9]\n",
    "})\n",
    "\n",
    "df[A] = df[A] + 1"
   ]
  },
  {
   "cell_type": "markdown",
   "metadata": {},
   "source": [
    "In order to reference column A in the dataframe, we need to put the column header in quotes because we're referencing the value \"A\", not a variable A.\n",
    "\n",
    "Alternativly, if we did have a variable that was equal to one of the column headers, we would use it without quotes because we want to use the variable's value, not it's name.\n",
    "\n",
    "🧑‍💻 Run the following code and correct the error"
   ]
  },
  {
   "cell_type": "code",
   "execution_count": null,
   "metadata": {},
   "outputs": [],
   "source": [
    "column_header = 'A'\n",
    "df['column_header'] = df['column_header'] + 1"
   ]
  },
  {
   "cell_type": "markdown",
   "metadata": {},
   "source": [
    "🧑‍💻 Use the Pandas documentation and Stack Overflow to replace \"ID-\" with the empty string \"\" in the following dataframe"
   ]
  },
  {
   "cell_type": "code",
   "execution_count": null,
   "metadata": {},
   "outputs": [],
   "source": [
    "df = pd.DataFrame({\n",
    "    'id': ['ID-1', 'ID-2', 'ID-3'],\n",
    "})\n",
    "\n",
    "df['id'] = df['id'].replace('ID-', '', regex=True)"
   ]
  },
  {
   "cell_type": "markdown",
   "metadata": {},
   "source": [
    "🧑‍💻 Make the same replacement across the entire dataframe.\n",
    "\n",
    "Hint: In the above code we call the replace function on the `id` series. Most pandas functions can either be called on an individual series or an entire dataframe"
   ]
  },
  {
   "cell_type": "code",
   "execution_count": null,
   "metadata": {},
   "outputs": [],
   "source": [
    "df = pd.DataFrame({\n",
    "    'idA': ['ID-A1', 'ID-A2', 'ID-A3'],\n",
    "    'idB': ['ID-B1', 'ID-B2', 'ID-B3'],\n",
    "    'idC': ['ID-C1', 'ID-C2', 'ID-C3'],\n",
    "})\n",
    "\n",
    "# TODO replace me with your code"
   ]
  },
  {
   "attachments": {},
   "cell_type": "markdown",
   "metadata": {},
   "source": [
    "## Import data"
   ]
  },
  {
   "attachments": {},
   "cell_type": "markdown",
   "metadata": {},
   "source": [
    "So far, we've created basic dataframes with only a couple row and column. But for report automation, we'll usually want to work with more complex dataframes.\n",
    " \n",
    "Oftentimes, we'll turn csv or Excel files into dataframes. Let's look at some examples.\n",
    "\n",
    "The Iris dataset is one of the first datasets that everyone learning Pandas starts with. Let's explore it. \n",
    "\n",
    "💡 Pandas lets us convert csv files to dataframes using the `read_csv` function."
   ]
  },
  {
   "cell_type": "code",
   "execution_count": null,
   "metadata": {},
   "outputs": [],
   "source": [
    "df = pd.read_csv('data1_iris.csv')\n",
    "df"
   ]
  },
  {
   "attachments": {},
   "cell_type": "markdown",
   "metadata": {},
   "source": [
    "Now that we converted the iris csv file into a dataframe, we can use pandas to explore our data. \n",
    "  \n",
    "🧑‍💻 Run the below cell to print the first 5 rows of data. Then change `head` to `tail` to print the tail instead."
   ]
  },
  {
   "cell_type": "code",
   "execution_count": null,
   "metadata": {},
   "outputs": [],
   "source": [
    "df.head()"
   ]
  },
  {
   "attachments": {},
   "cell_type": "markdown",
   "metadata": {},
   "source": [
    "💡 There are many other useful comments like `df.info()` , `df.max()` , `df.describe()`.  \n",
    "\n",
    "🧑‍💻 Run the below cells to see what information pandas makes available to us.\n"
   ]
  },
  {
   "cell_type": "code",
   "execution_count": null,
   "metadata": {},
   "outputs": [],
   "source": [
    "# Summary of the dataframe\n",
    "df.info()"
   ]
  },
  {
   "cell_type": "markdown",
   "metadata": {},
   "source": [
    "Notice that each column has an attribute called `dtype`. The dtype of each columns is just like the data types we explored previously. They could be ints, floats, strings, datetimes, etc.\n",
    "\n",
    "Some of the pandas functions we used are only available if the column is the correct dtype, so converting between dtypes is something we'll practice soon. "
   ]
  },
  {
   "cell_type": "code",
   "execution_count": null,
   "metadata": {},
   "outputs": [],
   "source": [
    "# Display descriptive statistics\n",
    "df.describe()"
   ]
  },
  {
   "cell_type": "code",
   "execution_count": null,
   "metadata": {},
   "outputs": [],
   "source": [
    "# Display the count of each species\n",
    "df['Species'].value_counts()"
   ]
  },
  {
   "cell_type": "code",
   "execution_count": null,
   "metadata": {},
   "outputs": [],
   "source": [
    "# Display the mean sepal and petal width and length of each species\n",
    "df.groupby('Species').mean()"
   ]
  },
  {
   "cell_type": "code",
   "execution_count": null,
   "metadata": {},
   "outputs": [],
   "source": [
    "# Display the number of missing values in each column\n",
    "print(df.isnull().sum())"
   ]
  },
  {
   "cell_type": "code",
   "execution_count": null,
   "metadata": {},
   "outputs": [],
   "source": [
    "# Drop the 'Species' column\n",
    "df_dropped = df.drop('Species', axis=1)\n",
    "df_dropped.head()"
   ]
  },
  {
   "cell_type": "code",
   "execution_count": null,
   "metadata": {},
   "outputs": [],
   "source": [
    "df_renamed = df.rename(columns={'Species': 'iris_species'})\n",
    "df_renamed.head()"
   ]
  },
  {
   "cell_type": "code",
   "execution_count": null,
   "metadata": {},
   "outputs": [],
   "source": [
    "# Use loc to select all rows and the 'species' column\n",
    "df.loc[:, 'Species']"
   ]
  },
  {
   "cell_type": "code",
   "execution_count": null,
   "metadata": {},
   "outputs": [],
   "source": [
    "# Use iloc to select the first 10 rows and the first 3 columns\n",
    "df.iloc[0:10, 0:3]"
   ]
  },
  {
   "attachments": {},
   "cell_type": "markdown",
   "metadata": {},
   "source": [
    "🧑‍💻 Append the new data we create below to the original dataframe using the syntax `pd.concat([df1, df2])`.\n",
    "\n",
    "\n",
    "Store the result in a new variable called `df_extended` and print it."
   ]
  },
  {
   "cell_type": "code",
   "execution_count": null,
   "metadata": {},
   "outputs": [],
   "source": [
    "new_data = {\n",
    "    'Id': [\"new1\", \"new2\", \"new3\", \"new4\", \"new5\"],\n",
    "    'SepalLengthCm': [5.6, 5.7, 5.1, 5.0, 5.2],\n",
    "    'SepalWidthCm': [3.0, 3.2, 3.4, 3.1, 3.5],\n",
    "    'PetalLengthCm': [4.5, 4.2, 4.7, 4.1, 4.3],\n",
    "    'PetalWidthCm': [1.5, 1.3, 1.6, 1.2, 1.4],\n",
    "    'Species': ['Iris-versicolor', 'Iris-versicolor', 'Iris-versicolor', 'Iris-virginica', 'Iris-virginica']\n",
    "}\n",
    "\n",
    "new_df = pd.DataFrame(new_data)\n",
    "new_df = new_df.set_index('Id')\n",
    "new_df"
   ]
  },
  {
   "cell_type": "code",
   "execution_count": null,
   "metadata": {},
   "outputs": [],
   "source": [
    "# TODO replace me with your code"
   ]
  }
 ],
 "metadata": {
  "kernelspec": {
   "display_name": "Python 3.9.6 64-bit",
   "language": "python",
   "name": "python3"
  },
  "language_info": {
   "codemirror_mode": {
    "name": "ipython",
    "version": 3
   },
   "file_extension": ".py",
   "mimetype": "text/x-python",
   "name": "python",
   "nbconvert_exporter": "python",
   "pygments_lexer": "ipython3",
   "version": "3.9.6"
  },
  "vscode": {
   "interpreter": {
    "hash": "31f2aee4e71d21fbe5cf8b01ff0e069b9275f58929596ceb00d14d90e3e16cd6"
   }
  }
 },
 "nbformat": 4,
 "nbformat_minor": 4
}
