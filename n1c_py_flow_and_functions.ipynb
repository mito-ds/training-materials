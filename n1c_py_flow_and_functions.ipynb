{
 "cells": [
  {
   "attachments": {},
   "cell_type": "markdown",
   "metadata": {},
   "source": [
    "# Python Flow, Modules and Functions.\n",
    "\n",
    "⏱️ 60 min.\n",
    "\n",
    "In the previous notebook, we've used if and else statements to control the flow of our code. \n",
    "\n",
    "Now it's time to add for loops and functions to our toolbox. \n",
    "\n",
    "The combination of them will let us write much more interesting programs.\n",
    "\n",
    "💡 **for loops** iterates over a list, string or range of numbers and perform an action each time.\n",
    "\n",
    "🧑‍💻 Run the below cells. Predict the output before running."
   ]
  },
  {
   "cell_type": "code",
   "execution_count": null,
   "metadata": {
    "tags": []
   },
   "outputs": [],
   "source": [
    "for char in \"Malibu\":\n",
    "  print(char)"
   ]
  },
  {
   "cell_type": "code",
   "execution_count": null,
   "metadata": {
    "tags": []
   },
   "outputs": [],
   "source": [
    "activities = [\"Surfing\", \"Swimming\", \"Diving\"]\n",
    "for activity in activities:\n",
    "  print(activity)"
   ]
  },
  {
   "cell_type": "code",
   "execution_count": null,
   "metadata": {},
   "outputs": [],
   "source": [
    "for i in range(0, 10):\n",
    "    print(i)"
   ]
  },
  {
   "attachments": {},
   "cell_type": "markdown",
   "metadata": {},
   "source": [
    "💡 When you use the function **enumerate**, Python helps you keep track of each item's positon in the list as you go through it.  \n",
    "🧑‍💻 Run the below cells. Predict the output before running."
   ]
  },
  {
   "cell_type": "code",
   "execution_count": null,
   "metadata": {
    "tags": []
   },
   "outputs": [],
   "source": [
    "activities = [\"Surfing\", \"Swimming\", \"Diving\"]\n",
    "for i, activity in enumerate(activities):\n",
    "  print(i , activity)"
   ]
  },
  {
   "attachments": {},
   "cell_type": "markdown",
   "metadata": {},
   "source": [
    "💡 The **range function** allows you to generate a range of values.\n",
    "\n",
    "🧑‍💻 Run the below cells. Predict the output before running. Then change the range to print the values from 1 to 10."
   ]
  },
  {
   "cell_type": "code",
   "execution_count": null,
   "metadata": {},
   "outputs": [],
   "source": [
    "for i in range(3, 7):\n",
    "  print(i)"
   ]
  },
  {
   "attachments": {},
   "cell_type": "markdown",
   "metadata": {},
   "source": [
    "🧑‍💻 Now write a small program that uses a for-loop to output the following pattern:\n",
    "```\n",
    "*\n",
    "**\n",
    "***\n",
    "****\n",
    "*****\n",
    "```"
   ]
  },
  {
   "cell_type": "code",
   "execution_count": null,
   "metadata": {},
   "outputs": [],
   "source": [
    "# TODO: Replace me with your code"
   ]
  },
  {
   "attachments": {},
   "cell_type": "markdown",
   "metadata": {},
   "source": [
    "🧑‍💻 Find the sum of all the multiples of 3 or 5 below 1000  \n",
    "Hint: If we list all the natural numbers below 10 that are multiples of 3 or 5, we get 3, 5, 6, and 9.   \n",
    "The sum of these multiples from this example is 23.  \n",
    "\n",
    "💡 When you write python programs, it's always good to first test your code on minimal examples before proceeding with more complex examples. "
   ]
  },
  {
   "cell_type": "code",
   "execution_count": null,
   "metadata": {},
   "outputs": [],
   "source": [
    "# TODO: Replace me with your code"
   ]
  },
  {
   "attachments": {},
   "cell_type": "markdown",
   "metadata": {},
   "source": [
    "🧑‍💻 Write a code cell that prints prime numbers till a given value n.\n",
    "\n",
    "Remember, a prime number is any number greater than 1 that cannot be divided by any other number other than itself and 1."
   ]
  },
  {
   "cell_type": "code",
   "execution_count": null,
   "metadata": {},
   "outputs": [],
   "source": [
    "# TODO: Replace me with your code"
   ]
  },
  {
   "attachments": {},
   "cell_type": "markdown",
   "metadata": {},
   "source": [
    "💡 While certain functions (e.g. range and enumerate) are built-in, other functions you'll use require an **import** from a **package**. Packages (sometimes called modules) are a collection of functions that you can use in your program.\n",
    "\n",
    "💡 E.g. when you want to pause execution, you can use the `sleep` function from the `time` module.  \n",
    "\n",
    "🧑‍💻 Run the below cells.   \n",
    "\n",
    "Notice how there a 3 different ways to import packages: \n",
    "1. only import the functions you use\n",
    "2. import the module itself \n",
    "3. import the module with an alias (keyword \"as\")"
   ]
  },
  {
   "cell_type": "code",
   "execution_count": null,
   "metadata": {},
   "outputs": [],
   "source": [
    "# Import only the degrees function from the math module\n",
    "from math import degrees\n",
    "degrees(3.1415927)"
   ]
  },
  {
   "cell_type": "code",
   "execution_count": null,
   "metadata": {},
   "outputs": [],
   "source": [
    "# Import the math module and call the degrees function\n",
    "import math \n",
    "math.degrees(3.1415927)"
   ]
  },
  {
   "cell_type": "code",
   "execution_count": null,
   "metadata": {},
   "outputs": [],
   "source": [
    "# Import the math module using the name `m` and call the degrees function\n",
    "import math as m\n",
    "m.degrees(3.1415927)"
   ]
  },
  {
   "attachments": {},
   "cell_type": "markdown",
   "metadata": {},
   "source": [
    "💡 When you need more info on a function, use the question mark (?) before the function name in a juypter cell."
   ]
  },
  {
   "cell_type": "code",
   "execution_count": null,
   "metadata": {},
   "outputs": [],
   "source": [
    "?m.degrees"
   ]
  },
  {
   "attachments": {},
   "cell_type": "markdown",
   "metadata": {},
   "source": [
    "🧑‍💻 Run the below cell. Then replace **time.sleep(0.5)** by **sleep(0.5)** and rewrite the import accordingly."
   ]
  },
  {
   "cell_type": "code",
   "execution_count": null,
   "metadata": {},
   "outputs": [],
   "source": [
    "import time\n",
    "print(\"Hello\")\n",
    "time.sleep(0.5)\n",
    "print(\"World!\")"
   ]
  },
  {
   "attachments": {},
   "cell_type": "markdown",
   "metadata": {},
   "source": [
    "Great! Now that we know about functions, let's write one ourselves!  \n",
    "💡 A function has the following pattern:\n",
    "\n",
    "* Functions are defined using the **def** keyword followed by the name of the function. \n",
    "* Just like variables, function names should be lowercase and multiple words should be separated with an underscore. \n",
    "* **Parentheses ()** come after the function name. Input **parameters** or arguments can be placed within these parentheses.\n",
    "* A **colon :** marks the beginning of the function body, which is a block of code to be executed when the function is * called.\n",
    "* The function **body** is indented for clarity.\n",
    "* An optional **return statement** can end the execution of the function, and can provide a value or expression back to the caller.\n",
    "* The function is invoked, or called, by its name followed by parentheses with arguments inside.\n",
    "\n",
    "\n",
    "🧑‍💻 Run the below cell. "
   ]
  },
  {
   "cell_type": "code",
   "execution_count": null,
   "metadata": {},
   "outputs": [],
   "source": [
    "def hi():\n",
    "  print(\"Hi!\")\n",
    "\n",
    "hi()"
   ]
  },
  {
   "attachments": {},
   "cell_type": "markdown",
   "metadata": {},
   "source": [
    "💡 Functions can receive arguments. Arguments are variables that the function can use in its execution. \n",
    "\n",
    "🧑‍💻 Run the following cells"
   ]
  },
  {
   "cell_type": "code",
   "execution_count": null,
   "metadata": {},
   "outputs": [],
   "source": [
    "def greet(name):\n",
    "  print(\"Hello \" + name + \"!\")\n",
    "greet(\"John\")"
   ]
  },
  {
   "cell_type": "code",
   "execution_count": null,
   "metadata": {},
   "outputs": [],
   "source": [
    "def my_addition(x, y):\n",
    "  z = x + y\n",
    "  return z\n",
    "print(my_addition(2, 3))"
   ]
  },
  {
   "attachments": {},
   "cell_type": "markdown",
   "metadata": {},
   "source": [
    "In the above example, the function my_addition(x,y) takes two arguments x and y and returns their sum. \n",
    "\n",
    "💡 Without a return statement in my_addition, the function's result can't be accessed outside the function. \n",
    "When a function doesn't have a return statement in Python, it automatically returns None.   \n",
    "So, if you tried to store the result of my_addition(2, 3) in a variable without the return statement, the variable would contain None, not 5.\n",
    "\n",
    "🧑‍💻 Remove the return statement in the above function once.\n",
    "\n",
    "💡 When you call my_addition(2, 3), it returns the result 5. If you don't assign this result to a variable, it's just printed out to the output (if it's the last line in a cell in Jupyter) and then it's gone - you can't use this result in later computations.\n",
    "\n",
    "However, when you call x = my_addition(2, 3) the return value is stored in x and can be used later in your code.\n",
    "\n",
    "🧑‍💻 Store the return value into a variable."
   ]
  },
  {
   "attachments": {},
   "cell_type": "markdown",
   "metadata": {},
   "source": [
    "Let's get a bit of practice writing functions.\n",
    "\n",
    "\n",
    "🧑‍💻 Look at the below three examples and correct the errors."
   ]
  },
  {
   "cell_type": "code",
   "execution_count": null,
   "metadata": {},
   "outputs": [],
   "source": [
    "def foo()\n",
    "  print(\"Hey!\")\n",
    "\n",
    "foo()"
   ]
  },
  {
   "cell_type": "code",
   "execution_count": null,
   "metadata": {},
   "outputs": [],
   "source": [
    "def foo():\n",
    "print(\"Hey!\")\n",
    "\n",
    "foo()"
   ]
  },
  {
   "cell_type": "code",
   "execution_count": null,
   "metadata": {},
   "outputs": [],
   "source": [
    "def foo:\n",
    "    print(\"Hey!\")\n",
    "foo()"
   ]
  },
  {
   "attachments": {},
   "cell_type": "markdown",
   "metadata": {},
   "source": [
    "🧑‍💻 Now write a function list_from_elements that takes 3 elements and returns them in a list."
   ]
  },
  {
   "cell_type": "code",
   "execution_count": null,
   "metadata": {},
   "outputs": [],
   "source": [
    "# TODO: Replace me with your code"
   ]
  },
  {
   "attachments": {},
   "cell_type": "markdown",
   "metadata": {},
   "source": [
    "🧑‍💻 Write a Python function is_even to print the even numbers from the list."
   ]
  },
  {
   "cell_type": "code",
   "execution_count": null,
   "metadata": {},
   "outputs": [],
   "source": [
    "numbers = [4, 5, 6, 7, 8, 9, 10]\n",
    "\n",
    "# TODO: Replace me with your code"
   ]
  },
  {
   "attachments": {},
   "cell_type": "markdown",
   "metadata": {},
   "source": [
    "💡 Note: functions can also be defined inline. These are called `lambda` function. They are quite useful in pandas, as we will see later."
   ]
  },
  {
   "cell_type": "code",
   "execution_count": null,
   "metadata": {},
   "outputs": [],
   "source": [
    "my_add = lambda x, y: x + y\n",
    "my_add(5, 3)"
   ]
  },
  {
   "attachments": {},
   "cell_type": "markdown",
   "metadata": {},
   "source": [
    "## Practice\n",
    "⏱️ 20 min.  "
   ]
  },
  {
   "attachments": {},
   "cell_type": "markdown",
   "metadata": {},
   "source": [
    "🧑‍💻Take two different lists and write a function `unique_elements` that returns values that are only in one list and not in the other one.  \n",
    "\n",
    "\n",
    "Hint: Try using for loops with if and else statements"
   ]
  },
  {
   "cell_type": "code",
   "execution_count": null,
   "metadata": {},
   "outputs": [],
   "source": [
    "list1 = [1, 2, 3, 4, 5]\n",
    "list2 = [4, 5, 6, 7, 8]\n",
    "\n",
    "# TODO: Replace me with your code"
   ]
  },
  {
   "attachments": {},
   "cell_type": "markdown",
   "metadata": {},
   "source": [
    "🧑‍💻 Write code to check if a word is a palindrome (ie: \"level\" or \"noon\")"
   ]
  },
  {
   "cell_type": "code",
   "execution_count": null,
   "metadata": {},
   "outputs": [],
   "source": [
    "# TODO: Replace me with your code"
   ]
  },
  {
   "attachments": {},
   "cell_type": "markdown",
   "metadata": {},
   "source": [
    "🧑‍💻 Write a program that scores a password from 0-3 depending on how many of the following criteria it meets:\n",
    "* length > 8\n",
    "* contains an uppercase and lowercase character \n",
    "* contains at least one number\n",
    "\n",
    "Hint: Try using Stack Overflow to find some helpful built in Python functions. Maybe try searching \"check if a character is uppercase python\""
   ]
  },
  {
   "cell_type": "code",
   "execution_count": null,
   "metadata": {},
   "outputs": [],
   "source": [
    "# TODO: Replace me with your code"
   ]
  }
 ],
 "metadata": {
  "kernelspec": {
   "display_name": "Python 3.9.6 64-bit",
   "language": "python",
   "name": "python3"
  },
  "language_info": {
   "codemirror_mode": {
    "name": "ipython",
    "version": 3
   },
   "file_extension": ".py",
   "mimetype": "text/x-python",
   "name": "python",
   "nbconvert_exporter": "python",
   "pygments_lexer": "ipython3",
   "version": "3.11.4"
  },
  "vscode": {
   "interpreter": {
    "hash": "31f2aee4e71d21fbe5cf8b01ff0e069b9275f58929596ceb00d14d90e3e16cd6"
   }
  }
 },
 "nbformat": 4,
 "nbformat_minor": 4
}
