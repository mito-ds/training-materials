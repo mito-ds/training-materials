{
 "cells": [
  {
   "attachments": {},
   "cell_type": "markdown",
   "metadata": {},
   "source": [
    "# Python Flow and Functions.\n",
    "\n",
    "⏱️ 30 min.\n",
    "\n",
    "In the prev. notebook, we've already taked about if+else statements.  \n",
    "Now it's time to add for loops, and functions to the toolbox.  \n",
    "Also, we will quickly dive into some best practices.\n",
    "\n",
    "💡You can use a **for loop** to iterate over a sequence like a list,tuple.\n",
    "\n",
    "🧑‍💻  Run the below cells. Predict the output before running."
   ]
  },
  {
   "cell_type": "code",
   "execution_count": null,
   "metadata": {},
   "outputs": [],
   "source": [
    "for c in \"Malibu\":\n",
    "  print(c)\n"
   ]
  },
  {
   "cell_type": "code",
   "execution_count": null,
   "metadata": {},
   "outputs": [],
   "source": [
    "activities = [\"Surfing\", \"Swimming\", \"Diving\"]\n",
    "for x in activities:\n",
    "  print(x)"
   ]
  },
  {
   "attachments": {},
   "cell_type": "markdown",
   "metadata": {},
   "source": [
    "💡 Using **enumerate**, you can keep track of the index or position of each element.\n",
    "\n",
    "🧑‍💻 Run the below cells. Predict the output before running."
   ]
  },
  {
   "cell_type": "code",
   "execution_count": null,
   "metadata": {},
   "outputs": [],
   "source": [
    "activities = [\"Surfing\", \"Swimming\", \"Diving\"]\n",
    "for i, x in enumerate(activities):\n",
    "  print(i , x)"
   ]
  },
  {
   "attachments": {},
   "cell_type": "markdown",
   "metadata": {},
   "source": [
    "💡 The **range function** allows you to generate a range of values.\n",
    "\n",
    "🧑‍💻 Run the below cells. Predict the output before running. Then change the range to print the values from 1 to 10 (ten should be included)."
   ]
  },
  {
   "cell_type": "code",
   "execution_count": null,
   "metadata": {},
   "outputs": [],
   "source": [
    "for i in range(3, 7):\n",
    "  print(i)"
   ]
  },
  {
   "attachments": {},
   "cell_type": "markdown",
   "metadata": {},
   "source": [
    "🧑‍💻 Now write a small program that uses a for-loop to output the following pattern:\n",
    "```\n",
    "*\n",
    "**\n",
    "***\n",
    "****\n",
    "*****\n",
    "```"
   ]
  },
  {
   "cell_type": "code",
   "execution_count": null,
   "metadata": {},
   "outputs": [],
   "source": []
  },
  {
   "cell_type": "code",
   "execution_count": null,
   "metadata": {},
   "outputs": [],
   "source": []
  },
  {
   "cell_type": "code",
   "execution_count": null,
   "metadata": {},
   "outputs": [],
   "source": [
    "* To add?\n",
    "\n",
    "* List comprehensions\n",
    "* Lambda functions\n",
    "* Classes\n",
    "* Inheritance\n"
   ]
  }
 ],
 "metadata": {
  "kernelspec": {
   "display_name": "base",
   "language": "python",
   "name": "python3"
  },
  "language_info": {
   "codemirror_mode": {
    "name": "ipython",
    "version": 3
   },
   "file_extension": ".py",
   "mimetype": "text/x-python",
   "name": "python",
   "nbconvert_exporter": "python",
   "pygments_lexer": "ipython3",
   "version": "3.11.4"
  },
  "orig_nbformat": 4
 },
 "nbformat": 4,
 "nbformat_minor": 2
}
