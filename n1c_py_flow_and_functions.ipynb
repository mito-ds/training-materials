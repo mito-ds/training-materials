{
 "cells": [
  {
   "attachments": {},
   "cell_type": "markdown",
   "metadata": {},
   "source": [
    "# Python Flow, Modules and Functions.\n",
    "\n",
    "⏱️ 60 min.\n",
    "\n",
    "In the previous notebook, we've used if and else statements to control the flow of our code. \n",
    "\n",
    "Now it's time to add for loops and functions to our toolbox. \n",
    "\n",
    "The combination of them will let us write much more interesting programs.\n",
    "\n",
    "💡 **for loop** iterate over a list, string or range of numbers and perform an action each time.\n",
    "\n",
    "🧑‍💻 Run the below cells. Predict the output before running."
   ]
  },
  {
   "cell_type": "code",
   "execution_count": null,
   "metadata": {
    "tags": []
   },
   "outputs": [],
   "source": [
    "for c in \"Malibu\":\n",
    "  print(c)"
   ]
  },
  {
   "cell_type": "code",
   "execution_count": null,
   "metadata": {
    "tags": []
   },
   "outputs": [],
   "source": [
    "activities = [\"Surfing\", \"Swimming\", \"Diving\"]\n",
    "for x in activities:\n",
    "  print(x)"
   ]
  },
  {
   "cell_type": "code",
   "execution_count": null,
   "metadata": {},
   "outputs": [],
   "source": [
    "for i in range(0, 10):\n",
    "    print(i)"
   ]
  },
  {
   "attachments": {},
   "cell_type": "markdown",
   "metadata": {},
   "source": [
    "💡 Using the **enumerate** keyword, let's you keep track of the index or position of each element.\n",
    "\n",
    "🧑‍💻 Run the below cells. Predict the output before running."
   ]
  },
  {
   "cell_type": "code",
   "execution_count": null,
   "metadata": {
    "tags": []
   },
   "outputs": [],
   "source": [
    "activities = [\"Surfing\", \"Swimming\", \"Diving\"]\n",
    "for i, x in enumerate(activities):\n",
    "  print(i , x)"
   ]
  },
  {
   "cell_type": "code",
   "execution_count": null,
   "metadata": {},
   "outputs": [],
   "source": [
    "🧑‍💻 Now write a function that checks \n",
    "\n",
    "# TODO Finish this excercise"
   ]
  },
  {
   "attachments": {},
   "cell_type": "markdown",
   "metadata": {},
   "source": [
    "💡 The **range function** allows you to generate a range of values.\n",
    "\n",
    "🧑‍💻 Run the below cells. Predict the output before running. Then change the range to print the values from 1 to 10."
   ]
  },
  {
   "cell_type": "code",
   "execution_count": null,
   "metadata": {},
   "outputs": [],
   "source": [
    "for i in range(3, 7):\n",
    "  print(i)"
   ]
  },
  {
   "attachments": {},
   "cell_type": "markdown",
   "metadata": {},
   "source": [
    "🧑‍💻 Now write a small program that uses a for-loop to output the following pattern:\n",
    "```\n",
    "*\n",
    "**\n",
    "***\n",
    "****\n",
    "*****\n",
    "```"
   ]
  },
  {
   "cell_type": "code",
   "execution_count": null,
   "metadata": {},
   "outputs": [],
   "source": [
    "# TODO: Replace me with your code"
   ]
  },
  {
   "cell_type": "code",
   "execution_count": null,
   "metadata": {},
   "outputs": [],
   "source": [
    "# TODO Let's create 2-3 more excercises that use a combination of for loops and if statements. Let's make at least one of them that is a little bit more challenging to make \n",
    "# make sure people don't get bored while going over a lot of the basic functionality. \n",
    "\n",
    "Maybe: \n",
    "If we list all the natural numbers below 10 that are multiples of 3 or 5, we get 3, 5, 6, and 9. The sum of these multiples is 23.\n",
    "Find the sum of all the multiples of 3 or 5 below 1000"
   ]
  },
  {
   "attachments": {},
   "cell_type": "markdown",
   "metadata": {},
   "source": [
    "💡 While certain functions (e.g. range and enumerate) are built-in, other functions you'll use require an **import** from a **package**. Packages (sometimes called modules) are functions that someone else wrote and can be used in your program.\n",
    "💡 E.g. when you want to pause execution, you can use the `sleep` function from the `time` module.  \n",
    "🧑‍💻 Run the below cells.   \n",
    "Notice how there a 3 different ways to approach the import packages:   \n",
    "1. only import the functions you use\n",
    "2. import the module itself \n",
    "3. import the module with an alias (keyword \"as\")"
   ]
  },
  {
   "cell_type": "code",
   "execution_count": null,
   "metadata": {},
   "outputs": [],
   "source": [
    "# Import only the degrees function from the math module\n",
    "from math import degrees\n",
    "degrees(3.1415927)"
   ]
  },
  {
   "cell_type": "code",
   "execution_count": null,
   "metadata": {},
   "outputs": [],
   "source": [
    "# Import the math module and call the degrees function\n",
    "import math \n",
    "math.degrees(3.1415927)"
   ]
  },
  {
   "cell_type": "code",
   "execution_count": null,
   "metadata": {},
   "outputs": [],
   "source": [
    "# Import the math module using the name `m` and call the degrees function\n",
    "import math as m\n",
    "m.degrees(3.1415927)"
   ]
  },
  {
   "attachments": {},
   "cell_type": "markdown",
   "metadata": {},
   "source": [
    "💡 When you need more info on a function, use the question mark (?) before the function name in a juypter cell."
   ]
  },
  {
   "cell_type": "code",
   "execution_count": null,
   "metadata": {},
   "outputs": [],
   "source": [
    "?m.degrees"
   ]
  },
  {
   "attachments": {},
   "cell_type": "markdown",
   "metadata": {},
   "source": [
    "🧑‍💻 Run the below cell. Then replace **time.sleep(0.5)** by **sleep(0.5)** and rewrite the import accordingly."
   ]
  },
  {
   "cell_type": "code",
   "execution_count": null,
   "metadata": {},
   "outputs": [],
   "source": [
    "import time\n",
    "print(\"Hello\")\n",
    "time.sleep(0.5)\n",
    "print(\"World!\")"
   ]
  },
  {
   "attachments": {},
   "cell_type": "markdown",
   "metadata": {},
   "source": [
    "Great! Now that we know about functions, let's write one ourselves!  \n",
    "💡 Function patterns are shown below.  # TODO Let's write out the components of a function here too. And also have an example of common errors (like not indenting the code, not adding the `:`, so people get used to those and how to understand the errors).   \n",
    "\n",
    "\n",
    "🧑‍💻 Run the below cell. "
   ]
  },
  {
   "cell_type": "code",
   "execution_count": null,
   "metadata": {},
   "outputs": [],
   "source": [
    "def hi():\n",
    "  print(\"Hi!\")\n",
    "\n",
    "hi()"
   ]
  },
  {
   "cell_type": "markdown",
   "metadata": {},
   "source": [
    "💡 Functions can receive arguments. Arguments are variables that the function can use in its execution. \n",
    "\n",
    "🧑‍💻 Run the following cells"
   ]
  },
  {
   "cell_type": "code",
   "execution_count": null,
   "metadata": {},
   "outputs": [],
   "source": [
    "def greet(name):\n",
    "  print(\"Hello \" + name + \"!\")\n",
    "greet(\"John\")"
   ]
  },
  {
   "cell_type": "code",
   "execution_count": null,
   "metadata": {},
   "outputs": [],
   "source": [
    "def my_addition(x, y):\n",
    "  z = x + y\n",
    "  return z\n",
    "my_addition(2, 3)"
   ]
  },
  {
   "attachments": {},
   "cell_type": "markdown",
   "metadata": {},
   "source": [
    "In the above example, the function my_addition(x,y) takes two arguments x and y and returns their sum.  \n",
    "\n",
    "🧑‍💻 Now write a function list_from_elements that takes 3 elements and returns a list containing these elements."
   ]
  },
  {
   "cell_type": "code",
   "execution_count": null,
   "metadata": {},
   "outputs": [],
   "source": [
    "# TODO: Replace me with your code"
   ]
  },
  {
   "attachments": {},
   "cell_type": "markdown",
   "metadata": {},
   "source": [
    "🧑‍💻 Write a Python function is_even to print the even numbers from the list."
   ]
  },
  {
   "cell_type": "code",
   "execution_count": null,
   "metadata": {},
   "outputs": [],
   "source": [
    "numbers = [4, 5, 6, 7, 8, 9, 10]\n",
    "\n",
    "# TODO: Replace me with your code"
   ]
  },
  {
   "cell_type": "code",
   "execution_count": null,
   "metadata": {},
   "outputs": [],
   "source": [
    "# TODO I think its important to also explain `returns` from functions. \n",
    "\n",
    "Some things to explain:\n",
    "\n",
    "1. What happens if in the my_addition function we did not have a return statement \n",
    "2. The difference between doing the following\n",
    "\n",
    "var x = my_addition(1, 2) \n",
    "\n",
    "vs. \n",
    "\n",
    "my_addition(1, 2)"
   ]
  },
  {
   "attachments": {},
   "cell_type": "markdown",
   "metadata": {},
   "source": [
    "💡 Note: functions can also be defined inline. These are called `lambda` function. They are quite useful in pandas, as we will see later."
   ]
  },
  {
   "cell_type": "code",
   "execution_count": 4,
   "metadata": {},
   "outputs": [
    {
     "data": {
      "text/plain": [
       "8"
      ]
     },
     "execution_count": 4,
     "metadata": {},
     "output_type": "execute_result"
    }
   ],
   "source": [
    "my_add = lambda x, y: x + y\n",
    "my_add(5, 3)"
   ]
  },
  {
   "cell_type": "markdown",
   "metadata": {},
   "source": [
    "## Practice"
   ]
  },
  {
   "attachments": {},
   "cell_type": "markdown",
   "metadata": {},
   "source": [
    "🧑‍💻Take two different lists and write a function `unique_elements` that returns values that are only in one list and not in the other one.  \n",
    "\n",
    "\n",
    "Hint: Try using for loops with if and else statements"
   ]
  },
  {
   "cell_type": "code",
   "execution_count": null,
   "metadata": {},
   "outputs": [],
   "source": [
    "list1 = [1, 2, 3, 4, 5]\n",
    "list2 = [4, 5, 6, 7, 8]\n",
    "\n",
    "# TODO: Replace me with your code"
   ]
  },
  {
   "attachments": {},
   "cell_type": "markdown",
   "metadata": {},
   "source": [
    "🧑‍💻 Write code to check if a word is a palindrome (ie: \"level\" or \"noon\")"
   ]
  },
  {
   "cell_type": "code",
   "execution_count": null,
   "metadata": {},
   "outputs": [],
   "source": [
    "# TODO: Replace me with your code"
   ]
  }
 ],
 "metadata": {
  "kernelspec": {
   "display_name": "Python 3.9.6 64-bit",
   "language": "python",
   "name": "python3"
  },
  "language_info": {
   "codemirror_mode": {
    "name": "ipython",
    "version": 3
   },
   "file_extension": ".py",
   "mimetype": "text/x-python",
   "name": "python",
   "nbconvert_exporter": "python",
   "pygments_lexer": "ipython3",
   "version": "3.9.6"
  },
  "vscode": {
   "interpreter": {
    "hash": "31f2aee4e71d21fbe5cf8b01ff0e069b9275f58929596ceb00d14d90e3e16cd6"
   }
  }
 },
 "nbformat": 4,
 "nbformat_minor": 4
}
