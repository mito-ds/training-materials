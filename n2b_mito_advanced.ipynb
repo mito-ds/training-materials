{
 "cells": [
  {
   "cell_type": "markdown",
   "metadata": {},
   "source": [
    "# Mito advanced\n",
    "\n",
    "⏱️ 60 min."
   ]
  },
  {
   "cell_type": "markdown",
   "metadata": {
    "tags": []
   },
   "source": [
    "🧑‍💻 Task 1  \n",
    "* Import data7_funds_performance data, filter the funds to only look at **Equity Funds**, calculate the percent of total aum (ie: =AUM0/SUM(AUM:AUM)).  \n",
    "* Then, turn the code you generated into a function and apply it calculate the same results for `Equity fund`, `Fixed income fund`, `Money market fund`, `ESG fund` categories"
   ]
  },
  {
   "cell_type": "code",
   "execution_count": null,
   "metadata": {
    "tags": []
   },
   "outputs": [],
   "source": [
    "import pandas as pd\n",
    "\n",
    "data = pd.read_csv('data7_funds_performance.csv')"
   ]
  },
  {
   "cell_type": "code",
   "execution_count": null,
   "metadata": {
    "tags": []
   },
   "outputs": [],
   "source": [
    "import mitosheet\n",
    "mitosheet.sheet(data)"
   ]
  },
  {
   "cell_type": "markdown",
   "metadata": {},
   "source": [
    "🧑‍💻 Task 2\n",
    "* Use the dataframes you just created to make an Excel file that has four tabs, one for each Fund Strategy.  \n",
    "Hint: One way to to this is to import all 4 dataframes into mito and then export them as excel files."
   ]
  },
  {
   "cell_type": "code",
   "execution_count": null,
   "metadata": {},
   "outputs": [],
   "source": [
    "# TODO: Replace me with your code"
   ]
  },
  {
   "cell_type": "markdown",
   "metadata": {},
   "source": [
    "🧑‍💻 Task 3\n",
    "* Import the dataframe **data8a_july_balances.csv** with the columns `ENTITY_ID` and `Ending Capital JULY`, and another dataframe called and **data7_july_fees.csv**  that has `ENTITY_ID` and `Management Fee JULY`. \n",
    "* Merge them together on a column called `ENTITY_ID` \n",
    "* Create a new column called `Total Equity` by subtracting `Managemeng Fee` from `Ending Capital`\n",
    "* Rerun the data on the two dataframes for August (**data7_august_balances.csv** and **data7_august_fees.csv**). \n",
    "* Hint: Try running the code and use the error to guide your next steps. #QUESTION-REMOVE THIS SENTENCE? Users might want to update the code to either be paramertized on the ending of the column headers, or update the code to use column position instead of column name. \n"
   ]
  },
  {
   "cell_type": "code",
   "execution_count": null,
   "metadata": {},
   "outputs": [],
   "source": [
    "# TODO: Replace me with your code"
   ]
  }
 ],
 "metadata": {
  "kernelspec": {
   "display_name": "Python 3 (ipykernel)",
   "language": "python",
   "name": "python3"
  },
  "language_info": {
   "codemirror_mode": {
    "name": "ipython",
    "version": 3
   },
   "file_extension": ".py",
   "mimetype": "text/x-python",
   "name": "python",
   "nbconvert_exporter": "python",
   "pygments_lexer": "ipython3",
   "version": "3.9.6"
  },
  "vscode": {
   "interpreter": {
    "hash": "31f2aee4e71d21fbe5cf8b01ff0e069b9275f58929596ceb00d14d90e3e16cd6"
   }
  }
 },
 "nbformat": 4,
 "nbformat_minor": 4
}
