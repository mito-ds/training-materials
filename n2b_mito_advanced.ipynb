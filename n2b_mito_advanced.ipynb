{
 "cells": [
  {
   "attachments": {},
   "cell_type": "markdown",
   "metadata": {},
   "source": [
    "# Mito advanced\n",
    "\n",
    "⏱️ 60 min."
   ]
  },
  {
   "attachments": {},
   "cell_type": "markdown",
   "metadata": {
    "tags": []
   },
   "source": [
    "Task 1:\n",
    "* Instructions: \n",
    "    * Import funds_performance data, filter the funds to only look at Equity Funds, calculate the percent of total aum (ie: =AUM0/SUM(AUM:AUM)).  \n",
    "    * Then, turn the code you generated into a function and apply it calculate the same results for `Equity fund`, `Fixed income fund`, `Money market fund`, `ESG fund` categories\n",
    "* TODO: \n",
    "    * Create a daset with \n",
    "        * a `Fund Strategy` column that has the values: `Equity fund`, `Fixed income fund`, `Money market fund`, `ESG fund`,  \n",
    "        * a fund id column\n",
    "        * an AUM column    \n",
    "\n",
    "Task 2:\n",
    "* Instructions:\n",
    "    * Use the dataframes you just created to make an Excel file that has four tabs, one for each Fund Strategy\n",
    "    * ie: Import them all into Mito and export them to an Excel file  \n",
    "\n",
    "* Task 3\n",
    "* Instructions:\n",
    "    * Import two dataframes, one called balances that has `ENTITY_ID` and `Ending Capital JULY`, and another dataframe called fees that has `ENTITY_ID` and `Management Fee JULY`. \n",
    "    * Merge them together on a column called `ENTITY_ID` \n",
    "    * Create a new column called `Total Equity` by subtracting `Managemeng Fee` from `Ending Capital`\n",
    "    * Rerun the data on the two dataframes for August. \n",
    "    * Hint: Try running the code and use the error to guide your next steps. Users might want to update the code to either be paramertized on the ending of the column headers, or update the code to use column position instead of column name. \n",
    "* TODO:\n",
    "    * Make a dataset for this analysis. \n"
   ]
  },
  {
   "cell_type": "code",
   "execution_count": null,
   "metadata": {
    "tags": []
   },
   "outputs": [],
   "source": [
    "import pandas as pd\n",
    "\n",
    "data = pd.read_csv('data2_loans.csv')\n",
    "data.head()"
   ]
  },
  {
   "cell_type": "code",
   "execution_count": null,
   "metadata": {
    "tags": []
   },
   "outputs": [],
   "source": [
    "import mitosheet\n",
    "mitosheet.sheet(data, analysis_to_replay=\"id-rphyxhbmxj\")"
   ]
  },
  {
   "cell_type": "code",
   "execution_count": null,
   "metadata": {},
   "outputs": [],
   "source": [
    "from mitosheet.public.v3 import *; register_analysis(\"id-rphyxhbmxj\");\n",
    "# Pivoted data into data_pivot\n",
    "tmp_df = data[['income_category', 'purpose']].copy()\n",
    "pivot_table = tmp_df.pivot_table(\n",
    "    index=['income_category'],\n",
    "    columns=['purpose'],\n",
    "    values=['purpose'],\n",
    "    aggfunc={'purpose': ['count']}\n",
    ")\n",
    "pivot_table = pivot_table.set_axis([flatten_column_header(col) for col in pivot_table.keys()], axis=1)\n",
    "data_pivot = pivot_table.reset_index()\n",
    "\n",
    "# Sorted income_category in descending order\n",
    "data_pivot = data_pivot.sort_values(by='income_category', ascending=False, na_position='last')\n",
    "\n",
    "# Pivoted data into data_pivot\n",
    "tmp_df = data[['income_category', 'purpose']].copy()\n",
    "pivot_table = tmp_df.pivot_table(\n",
    "    index=['purpose'],\n",
    "    columns=['income_category'],\n",
    "    values=['purpose'],\n",
    "    aggfunc={'purpose': ['count']}\n",
    ")\n",
    "pivot_table = pivot_table.set_axis([flatten_column_header(col) for col in pivot_table.keys()], axis=1)\n",
    "data_pivot = pivot_table.reset_index()\n",
    "\n",
    "# Sorted purpose count High in descending order\n",
    "data_pivot = data_pivot.sort_values(by='purpose count High', ascending=False, na_position='last')\n",
    "\n",
    "# Sorted purpose count Low in ascending order\n",
    "data_pivot = data_pivot.sort_values(by='purpose count Low', ascending=True, na_position='first')\n",
    "\n",
    "# Sorted purpose count Medium in ascending order\n",
    "data_pivot = data_pivot.sort_values(by='purpose count Medium', ascending=True, na_position='first')\n",
    "\n",
    "# Sorted purpose count Low in ascending order\n",
    "data_pivot = data_pivot.sort_values(by='purpose count Low', ascending=True, na_position='first')\n",
    "\n",
    "# Sorted purpose count High in ascending order\n",
    "data_pivot = data_pivot.sort_values(by='purpose count High', ascending=True, na_position='first')\n"
   ]
  }
 ],
 "metadata": {
  "kernelspec": {
   "display_name": "Python 3.9.6 64-bit",
   "language": "python",
   "name": "python3"
  },
  "language_info": {
   "codemirror_mode": {
    "name": "ipython",
    "version": 3
   },
   "file_extension": ".py",
   "mimetype": "text/x-python",
   "name": "python",
   "nbconvert_exporter": "python",
   "pygments_lexer": "ipython3",
   "version": "3.9.6"
  },
  "vscode": {
   "interpreter": {
    "hash": "31f2aee4e71d21fbe5cf8b01ff0e069b9275f58929596ceb00d14d90e3e16cd6"
   }
  }
 },
 "nbformat": 4,
 "nbformat_minor": 4
}
