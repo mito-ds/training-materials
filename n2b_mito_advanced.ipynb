{
 "cells": [
  {
   "cell_type": "markdown",
   "metadata": {},
   "source": [
    "# Mito advanced\n",
    "\n",
    "⏱️ 60 min."
   ]
  },
  {
   "cell_type": "markdown",
   "metadata": {
    "tags": []
   },
   "source": [
    "## Excercise 1: Turning the Mito generated code into a function\n",
    "* Import data7_funds_performance\n",
    "* Filter the funds to only include `Equity Funds`\n",
    "* For each row, calculate the percent of the total aum it contributes.\n",
    "* Turn the code you generated into a function and use it to calculate the same results for `Equity fund`, `Fixed income fund`, `Money market fund`, `ESG fund` categories"
   ]
  },
  {
   "cell_type": "code",
   "execution_count": null,
   "metadata": {
    "tags": []
   },
   "outputs": [],
   "source": [
    "import pandas as pd\n",
    "\n",
    "data = pd.read_csv('data7_funds_performance.csv')"
   ]
  },
  {
   "cell_type": "code",
   "execution_count": null,
   "metadata": {
    "tags": []
   },
   "outputs": [],
   "source": [
    "import mitosheet\n",
    "mitosheet.sheet(data)"
   ]
  },
  {
   "cell_type": "markdown",
   "metadata": {},
   "source": [
    "## Excercise 2: Continue using your code\n",
    "* Use the dataframes you just created to make an Excel file that has four tabs, one for each Fund Strategy.  \n",
    "\n",
    "Hint: One way to to this is to import all 4 dataframes into mito and then export them as excel files."
   ]
  },
  {
   "cell_type": "code",
   "execution_count": null,
   "metadata": {},
   "outputs": [],
   "source": [
    "# TODO: Replace me with your code"
   ]
  },
  {
   "cell_type": "markdown",
   "metadata": {},
   "source": [
    "## Excercise 3: Make the code robust for your use case\n",
    "* Import the dataframes `data8_july_balances.csv` and `data8_july_fees.csv`\n",
    "* Merge the dataframes together and calculate the `Total Equity` by subtracting `Management Fee` from `Ending Capital`\n",
    "* Rerun the data on the two dataframes for August, `data8_august_balances.csv` and `data8_august_fees.csv`. \n",
    "\n",
    "\n",
    "Hint: Try running the code and use the error to guide your next steps. "
   ]
  },
  {
   "cell_type": "code",
   "execution_count": null,
   "metadata": {},
   "outputs": [],
   "source": [
    "# TODO: Replace me with your code"
   ]
  }
 ],
 "metadata": {
  "kernelspec": {
   "display_name": "Python 3 (ipykernel)",
   "language": "python",
   "name": "python3"
  },
  "language_info": {
   "codemirror_mode": {
    "name": "ipython",
    "version": 3
   },
   "file_extension": ".py",
   "mimetype": "text/x-python",
   "name": "python",
   "nbconvert_exporter": "python",
   "pygments_lexer": "ipython3",
   "version": "3.9.6"
  },
  "vscode": {
   "interpreter": {
    "hash": "31f2aee4e71d21fbe5cf8b01ff0e069b9275f58929596ceb00d14d90e3e16cd6"
   }
  }
 },
 "nbformat": 4,
 "nbformat_minor": 4
}
