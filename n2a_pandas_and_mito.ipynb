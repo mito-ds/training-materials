{
 "cells": [
  {
   "attachments": {},
   "cell_type": "markdown",
   "metadata": {},
   "source": [
    "# Hands-on Mito\n",
    "\n",
    "⏱️ 60 min.\n",
    " \n",
    "This notebook shifts a bit the focus.    \n",
    "Till now, we learned the basics of python.  \n",
    "\n",
    "💡 Now, we will see the baiscs of mito, a package that will generate this pandas python code for you.\n",
    "\n",
    "\n",
    "Below, comment in the first line and comment out the second.\n",
    "\n",
    "\n",
    "Also the format is differnt:  \n",
    "There will be 2 minutes presentation from the beamer in the front.  \n",
    "🧑‍💻 Then, there will be 8 minutes for you to repeat these actions.   \n",
    "You will hear a ring every 10 minutes to be notified that one period is complete.  \n",
    "In total, there will be 6 periods.\n",
    "\n",
    "💡 Please don't run the generated workflows in this session. Your focus should lay on studiying the mito user interface.\n",
    "\n",
    "💡 If you're curious, feel free to look at the generated workflow code and see if something looks familiar from the previous pandas lesson.\n"
   ]
  },
  {
   "attachments": {},
   "cell_type": "markdown",
   "metadata": {},
   "source": [
    "Period 0\n",
    "\n",
    "* what is the analysis_to_replay parameter?\n",
    "* how is the code generated below?\n",
    "* what happens when I run the code below?\n",
    "* What happens if I modify the code below and then change things in mito again?\n",
    "\n",
    "\n",
    "Period 1\n",
    "\n",
    "* Add Col/ Del Col\n",
    "* Undo redo clear\n",
    "* Renaming\n",
    "\n",
    "Period 2\n",
    "\n",
    "* Data types, More, less commas\n",
    "* Filter sort descending, unique values, summary stats\n",
    "* Setting calculations\n",
    "\n",
    "\n",
    "Period 3\n",
    "\n",
    "* show how to concat two dataframs on top of each other.\n",
    "\n",
    "Period 4\n",
    "\n",
    "* Export excel file\n",
    "* Import that excel file again\n",
    "* Import another csv file directly from mito\n",
    "\n",
    "\n",
    "Peroid 5\n",
    "\n",
    "* change to the iris dataset\n",
    "* Graph , switching tabs, updating data, switching back\n",
    "\n",
    "\n",
    "Period 6\n",
    "\n",
    "??\n"
   ]
  },
  {
   "cell_type": "code",
   "execution_count": null,
   "metadata": {
    "tags": []
   },
   "outputs": [],
   "source": [
    "import pandas as pd\n",
    "df = pd.DataFrame([[1.0,2.0,3.0],[4.0,5.0,6.0],[7.0,8.0,9.0]], columns=list(\"ABC\"))\n",
    "df2 = pd.DataFrame([[20,30,40]], columns=list(\"ABC\"))\n",
    "df"
   ]
  },
  {
   "cell_type": "code",
   "execution_count": null,
   "metadata": {
    "tags": []
   },
   "outputs": [],
   "source": [
    "import mitosheet\n",
    "mitosheet.sheet(df,df2, analysis_to_replay=\"id-lnowqaqvlp\")"
   ]
  },
  {
   "cell_type": "code",
   "execution_count": null,
   "metadata": {
    "tags": []
   },
   "outputs": [],
   "source": [
    "from mitosheet.public.v3 import *; register_analysis(\"id-lnowqaqvlp\");\n",
    "import pandas as pd\n",
    "\n",
    "# Filtered B\n",
    "df = df[df['B'] != 7]\n",
    "\n",
    "# Sorted C in descending order\n",
    "df = df.sort_values(by='C', ascending=False, na_position='last')\n",
    "\n",
    "# Exports 1 to file df_export.xlsx\n",
    "df.to_excel(\"df_export.xlsx\", sheet_name=\"df\", index=False)\n",
    "\n",
    "# Exports 1 to file df_exportjoooo.xlsx\n",
    "df.to_excel(\"df_exportjoooo.xlsx\", sheet_name=\"df\", index=False)\n",
    "\n",
    "# Imported df from df_exportjoooo.xlsx\n",
    "sheet_df_dictonary = pd.read_excel(r'df_exportjoooo.xlsx', engine='openpyxl', sheet_name=['df'], skiprows=0)\n",
    "df_1 = sheet_df_dictonary['df']\n",
    "\n",
    "# Imported df from df_exportjoooo.xlsx\n",
    "sheet_df_dictonary = pd.read_excel(r'df_exportjoooo.xlsx', engine='openpyxl', sheet_name=['df'], skiprows=0)\n",
    "df_2 = sheet_df_dictonary['df']\n"
   ]
  },
  {
   "cell_type": "code",
   "execution_count": null,
   "metadata": {
    "tags": []
   },
   "outputs": [],
   "source": [
    "import pandas as pd\n",
    "d_iris = pd.read_csv('data1_iris.csv')\n",
    "d_iris.head()"
   ]
  },
  {
   "cell_type": "code",
   "execution_count": null,
   "metadata": {
    "tags": []
   },
   "outputs": [],
   "source": [
    "import mitosheet\n",
    "mitosheet.sheet(d_iris, analysis_to_replay=\"id-jbnbojoran\")"
   ]
  }
 ],
 "metadata": {
  "kernelspec": {
   "display_name": "Python 3 (ipykernel)",
   "language": "python",
   "name": "python3"
  },
  "language_info": {
   "codemirror_mode": {
    "name": "ipython",
    "version": 3
   },
   "file_extension": ".py",
   "mimetype": "text/x-python",
   "name": "python",
   "nbconvert_exporter": "python",
   "pygments_lexer": "ipython3",
   "version": "3.11.4"
  }
 },
 "nbformat": 4,
 "nbformat_minor": 4
}
