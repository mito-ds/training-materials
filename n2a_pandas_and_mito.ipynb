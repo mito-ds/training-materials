{
 "cells": [
  {
   "cell_type": "markdown",
   "metadata": {},
   "source": [
    "# Hands-on Mito"
   ]
  },
  {
   "cell_type": "markdown",
   "metadata": {},
   "source": [
    "Now that you know have a sold fundation in Jupyter, Python, Pandas, it's time to take your data exploration skills to the next level with Mito.\n",
    "\n",
    "Mito is a spreadsheet that lives inside your JupyterLab notebooks. \n",
    "\n",
    "It allows you to edit Pandas dataframes like an Excel file, and generates Python code that corresponds to each of your edits.\n",
    "\n",
    "\n",
    "## Initial exploration\n",
    "\n",
    "🧑‍💻 The first 10 minutes of this session you can freely explore the spreadsheet grafical user interface (GUI).\n",
    "\n",
    "The generated python code beneath the spreadsheet that you can ignore for now.  \n",
    "First, get familiar with the data and investigate the menu for yourself. "
   ]
  },
  {
   "cell_type": "code",
   "execution_count": null,
   "metadata": {
    "tags": []
   },
   "outputs": [],
   "source": [
    "import pandas as pd\n",
    "loans = pd.read_csv('data2_loans.csv')\n",
    "loans.head()"
   ]
  },
  {
   "cell_type": "code",
   "execution_count": null,
   "metadata": {
    "tags": []
   },
   "outputs": [],
   "source": [
    "import mitosheet\n",
    "mitosheet.sheet(loans, analysis_to_replay=\"id-wpfjbtsyap\")"
   ]
  },
  {
   "cell_type": "code",
   "execution_count": null,
   "metadata": {
    "tags": []
   },
   "outputs": [],
   "source": []
  },
  {
   "cell_type": "markdown",
   "metadata": {
    "tags": []
   },
   "source": [
    "When you're done with the 10 minutes exploration, you can go on with the next section.\n",
    "\n",
    "### Mito walkthrough\n",
    "\n",
    "In this section we will walk through some exercieses to oder to understand mito on the one hand, and study pandas dataframes one the other hand.\n",
    "\n",
    "But first some mito conventions to be aware of:\n",
    "* The initial call of `mitosheet.sheet()` will generate a analysis_to_replay=\"id-xxxxxxxxxx\") unique identifier.\n",
    "    * mito stores all spreadsheet transformation commands locally.   \n",
    "    The id makes sure this local stored data is linked correctly when the cell is run again.\n",
    "* Every single transformation command on the data from the mito GUI is recorded.  \n",
    "  Run the cell again, and all interactions that you made are restored.\n",
    "*   Every transformation command will add one line of pandas code below the spreadsheet\n",
    "\n",
    "Let's dive into mito with a first task!\n",
    "\n",
    "\n",
    "\n",
    "🧑‍💻 Task 1 \n",
    "* Import the csv file 'data_3_loans_messy.csv'. \n",
    "* Cleanup the dataframe:\n",
    "    * cast the loan_amout type from \"string\" to \"int\"\n",
    "    * rename the header \"date\"  to \"issue_date\"\n",
    "    * columns that only have one value should be deleted"
   ]
  },
  {
   "cell_type": "code",
   "execution_count": null,
   "metadata": {
    "tags": []
   },
   "outputs": [],
   "source": [
    " # PREPARE FOR WORKSHOP: DELETE CONTENT OF THIS CELL\n",
    "import pandas as pd  \n",
    "loans_messy = pd.read_csv('data3_loans_messy.csv')\n",
    "loans_messy.head()"
   ]
  },
  {
   "cell_type": "code",
   "execution_count": null,
   "metadata": {
    "tags": []
   },
   "outputs": [],
   "source": [
    "import mitosheet\n",
    "mitosheet.sheet(loans_messy, analysis_to_replay=\"id-icubzgcgyn\")"
   ]
  }
 ],
 "metadata": {
  "kernelspec": {
   "display_name": "Python 3 (ipykernel)",
   "language": "python",
   "name": "python3"
  },
  "language_info": {
   "codemirror_mode": {
    "name": "ipython",
    "version": 3
   },
   "file_extension": ".py",
   "mimetype": "text/x-python",
   "name": "python",
   "nbconvert_exporter": "python",
   "pygments_lexer": "ipython3",
   "version": "3.11.4"
  },
  "vscode": {
   "interpreter": {
    "hash": "31f2aee4e71d21fbe5cf8b01ff0e069b9275f58929596ceb00d14d90e3e16cd6"
   }
  }
 },
 "nbformat": 4,
 "nbformat_minor": 4
}
