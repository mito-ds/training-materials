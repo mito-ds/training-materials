{
 "cells": [
  {
   "attachments": {},
   "cell_type": "markdown",
   "metadata": {},
   "source": [
    "# Hands-on Mito\n",
    "\n",
    "⏱️ 60 min.\n",
    " \n",
    "This notebook shifts a bit the focus.    \n",
    "Till now, we learned the basics of python.  \n",
    "\n",
    "💡 Now, we will see the baiscs of mito, a package that will generate this pandas python code for you.\n",
    "\n",
    "\n",
    "Below, comment in the first line and comment out the second.\n",
    "\n",
    "\n",
    "Also the format is differnt:  \n",
    "There will be 2 minutes presentation from the beamer in the front.  \n",
    "🧑‍💻 Then, there will be 8 minutes for you to repeat these actions.   \n",
    "You will hear a ring every 10 minutes to be notified that one period is complete.  \n",
    "In total, there will be 6 periods.\n",
    "\n",
    "💡 You're welcome to examine the created workflow code and learn about the pandas capabilities through performing operations in the Mito interface.  \n",
    "This chapter is about interactions in the Mito interface, so you don't have to execute the resulting workflow here."
   ]
  },
  {
   "attachments": {},
   "cell_type": "markdown",
   "metadata": {},
   "source": [
    "Period 0 -- Aaron Demo Mito for ~10 minutes. Goals:\n",
    "\n",
    "* how to create a mitosheet\n",
    "* what is the analysis_to_replay parameter?\n",
    "* how is the code generated below?\n",
    "* what happens when I run the code below?\n",
    "* What happens if I modify the code below and then change things in mito again?\n",
    "* what functionality is available in Mito?\n",
    "* common first step: Import data, look through the column headers and rename column headers that are poorly labelled, delete columns that are all NaN values, etc. \n",
    "\n",
    "\n",
    "Task 1:\n",
    "* Instructions\n",
    "    * Import the csv file. \n",
    "    * Cleanup the dataframe by making sure the columns are the right types, columns that only have one value are deleted, column header are clean and easy to work with\n",
    "* TODO: Create a financial dataset that has the following with:\n",
    "    * At least one number column that contains $ in it so that users can practice converting it to a float in Mito\n",
    "    * At least one date column formatted as a string\n",
    "    * At least one column with just one unqiue value, like a column header \"Type\" and a value \"Stock\" in every row. \n",
    "    * At least one column that has an unhelpful substring that should be removed. ie: Stock-Ticker-APPLE, Stock-Ticker-Alphabet. So users can remove the \"Stock-Ticker-\" \n",
    "    * At least one column that should be renamed \n",
    "\n",
    "Task 2:\n",
    "* Instructions: \n",
    "    * Import the loans csv, \n",
    "    * Calculate the difference between annual income and loan amount, \n",
    "    * Filter the dataset so we are only looking at car loans \n",
    "    * Create a pivot table that shows the average loan amount given out each month for each loan type\n",
    "    * Fill all of the NaN values with 0\n",
    "* TODO: \n",
    "    * Make sure that these instructions make sense with the loans dataset\n",
    "\n",
    "Task 3:\n",
    "* Instructions: \n",
    "    * Import the trade data for June and July and find the most recent trade for each stock \n",
    "* TODO: \n",
    "    * Create an Excel file called equity_transactions that has two sheets in it. One called may_transactions and another called june_transactions with the columns DATE, STOCK TICKER, and PRICE. \n",
    "\n",
    "Task 4:\n",
    "* Instructions:\n",
    "    * Import the stock price dataset and for each successive trade of the same stock, calculate the change in price, and then export the result as an Excel file. \n",
    "    * (ie: the user should figure out: to sort the data in ascending order of stock name, and then in ascending order of transaction date and then write the formula =IF(StockTicker1 == StockTicker0, StockPrice1 - StockPrice0, 0))\n",
    "* TODO:\n",
    "    * Make sure one of the datasets works for this. \n",
    "\n",
    "* Task 5 -- Data checks\n",
    "* Instructions:\n",
    "    * Import two dataframes, one called transactions_excel and another called transactions_eagle\n",
    "    * Merge them together on a column called `Transaction_ID`\n",
    "    * Use the generated code \n",
    "    * Write the Python code for performing the following checks. \n",
    "        * If the either dataset does not have a value in the `Quantity` column, set the value of the `Check` column to \"Missing Data from Excel\" or \"Missing Data from Eagle\". \n",
    "        * If the Quantity numbers are the same, set the value of the `Check` column to \"Matching\"\n",
    "        * If the numbers are not matching, set the value of the `Check` column to \"Data does not match\"\n",
    "    * Import the updated dataframe to Mito and separate the data in 3 different sheets, one for each condition\n",
    "    * Download an Excel file with three tabs  \n",
    "* TODO: \n",
    "    * Make sure we have a dataset for this. \n"
   ]
  },
  {
   "cell_type": "code",
   "execution_count": null,
   "metadata": {
    "tags": []
   },
   "outputs": [],
   "source": [
    "import pandas as pd\n",
    "df = pd.DataFrame([[1.0,2.0,3.0],[4.0,5.0,6.0],[7.0,8.0,9.0]], columns=list(\"ABC\"))\n",
    "df2 = pd.DataFrame([[20,30,40]], columns=list(\"ABC\"))\n",
    "df"
   ]
  },
  {
   "cell_type": "code",
   "execution_count": null,
   "metadata": {
    "tags": []
   },
   "outputs": [],
   "source": [
    "import mitosheet\n",
    "mitosheet.sheet(df,df2, analysis_to_replay=\"id-lnowqaqvlp\")"
   ]
  },
  {
   "cell_type": "code",
   "execution_count": null,
   "metadata": {
    "tags": []
   },
   "outputs": [],
   "source": [
    "from mitosheet.public.v3 import *; register_analysis(\"id-lnowqaqvlp\");\n",
    "import pandas as pd\n",
    "\n",
    "# Filtered B\n",
    "df = df[df['B'] != 7]\n",
    "\n",
    "# Sorted C in descending order\n",
    "df = df.sort_values(by='C', ascending=False, na_position='last')\n",
    "\n",
    "# Exports 1 to file df_exportjoooo.xlsx\n",
    "df.to_excel(\"df_exportjoooo.xlsx\", sheet_name=\"df\", index=False)\n",
    "\n",
    "# Imported df from df_exportjoooo.xlsx\n",
    "sheet_df_dictonary = pd.read_excel(r'df_exportjoooo.xlsx', engine='openpyxl', sheet_name=['df'], skiprows=0)\n",
    "df_1 = sheet_df_dictonary['df']\n",
    "\n",
    "# Imported df from df_exportjoooo.xlsx\n",
    "sheet_df_dictonary = pd.read_excel(r'df_exportjoooo.xlsx', engine='openpyxl', sheet_name=['df'], skiprows=0)\n",
    "df_2 = sheet_df_dictonary['df']\n"
   ]
  },
  {
   "cell_type": "code",
   "execution_count": null,
   "metadata": {
    "tags": []
   },
   "outputs": [],
   "source": [
    "import pandas as pd\n",
    "d_iris = pd.read_csv('data1_iris.csv')\n",
    "d_iris.head()"
   ]
  },
  {
   "cell_type": "code",
   "execution_count": null,
   "metadata": {
    "tags": []
   },
   "outputs": [],
   "source": [
    "import mitosheet\n",
    "mitosheet.sheet(d_iris, analysis_to_replay=\"id-jbnbojoran\")"
   ]
  }
 ],
 "metadata": {
  "kernelspec": {
   "display_name": "Python 3.9.6 64-bit",
   "language": "python",
   "name": "python3"
  },
  "language_info": {
   "codemirror_mode": {
    "name": "ipython",
    "version": 3
   },
   "file_extension": ".py",
   "mimetype": "text/x-python",
   "name": "python",
   "nbconvert_exporter": "python",
   "pygments_lexer": "ipython3",
   "version": "3.9.6"
  },
  "vscode": {
   "interpreter": {
    "hash": "31f2aee4e71d21fbe5cf8b01ff0e069b9275f58929596ceb00d14d90e3e16cd6"
   }
  }
 },
 "nbformat": 4,
 "nbformat_minor": 4
}
