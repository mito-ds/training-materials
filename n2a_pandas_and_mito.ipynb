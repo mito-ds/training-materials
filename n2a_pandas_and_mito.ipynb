{
 "cells": [
  {
   "cell_type": "markdown",
   "metadata": {},
   "source": [
    "# Hands-on Mito"
   ]
  },
  {
   "cell_type": "markdown",
   "metadata": {},
   "source": [
    "Now that you know have a sold fundation in Jupyter, Python, Pandas, it's time to take your data exploration skills to the next level with Mito.\n",
    "\n",
    "Mito is a spreadsheet that lives inside your JupyterLab notebooks. \n",
    "\n",
    "It allows you to edit Pandas dataframes like an Excel file, and generates Python code that corresponds to each of your edits.\n",
    "\n",
    "\n",
    "## Initial exploration\n",
    "\n",
    "🧑‍💻 The first 10 minutes of this session you can freely explore the spreadsheet grafical user interface (GUI).\n",
    "\n",
    "The generated python code beneath the spreadsheet that you can ignore for now.  \n",
    "First, get familiar with the data and investigate the menu for yourself. "
   ]
  },
  {
   "cell_type": "code",
   "execution_count": null,
   "metadata": {
    "tags": []
   },
   "outputs": [],
   "source": [
    "import pandas as pd\n",
    "loans = pd.read_csv('data2_loans.csv')\n",
    "loans.head()"
   ]
  },
  {
   "cell_type": "code",
   "execution_count": null,
   "metadata": {
    "tags": []
   },
   "outputs": [],
   "source": [
    "import mitosheet\n",
    "mitosheet.sheet(loans, analysis_to_replay=\"id-wpfjbtsyap\")"
   ]
  },
  {
   "cell_type": "code",
   "execution_count": null,
   "metadata": {
    "tags": []
   },
   "outputs": [],
   "source": []
  },
  {
   "cell_type": "markdown",
   "metadata": {
    "tags": []
   },
   "source": [
    "When you're done with the 10 minutes exploration, you can go on with the next section.\n",
    "\n",
    "### Mito walkthrough\n",
    "\n",
    "In this section we will walk through some exercieses to oder to understand mito on the one hand, and study pandas dataframes one the other hand.\n",
    "\n",
    "But first some mito conventions to be aware of:\n",
    "* The initial call of `mitosheet.sheet()` will generate a analysis_to_replay=\"id-xxxxxxxxxx\") unique identifier.\n",
    "    * mito stores all spreadsheet transformation commands locally.   \n",
    "    The id makes sure this local stored data is linked correctly when the cell is run again.\n",
    "* Every single transformation command on the data from the mito GUI is recorded.  \n",
    "  Run the cell again, and all interactions that you made are restored.\n",
    "*   Every transformation command will add one line of pandas code below the spreadsheet\n",
    "\n",
    "Let's dive into mito with a first task!\n",
    "\n",
    "\n",
    "\n",
    "🧑‍💻 Task 1 \n",
    "* Import the csv file 'data_3_loans_messy.csv'. \n",
    "* Cleanup the dataframe by making sure the columns are the right types, columns that only have one value are deleted, column header are clean and easy to work with.  \n",
    "Hint:\n",
    "    * cast the Transaction_Value_$ type from \"string\" to \"int\"\n",
    "    * convert the dates that are strings to timetime format\n",
    "    * columns that only have one value should be deleted\n",
    "    * remove the substring STOCK-Ticker from the Ticker_with_Substring by using the Column Formula with LEFT and LEN.\n",
    "    * rename the header \"Unhelpfully_Long_Column_Name\"  to \"purchase\"\n",
    "    * export the new dataset as data_3_cleaned.csv\n"
   ]
  },
  {
   "cell_type": "code",
   "execution_count": null,
   "metadata": {
    "tags": []
   },
   "outputs": [],
   "source": [
    " # PREPARE FOR WORKSHOP: DELETE CONTENT OF THIS CELL\n",
    "import pandas as pd  \n",
    "messy_data = pd.read_csv('data3_sample_messy.csv')\n",
    "messy_data"
   ]
  },
  {
   "cell_type": "code",
   "execution_count": null,
   "metadata": {
    "tags": []
   },
   "outputs": [],
   "source": [
    "import mitosheet\n",
    "mitosheet.sheet(messy_data, analysis_to_replay=\"id-ckgmhiznfp\")"
   ]
  },
  {
   "cell_type": "markdown",
   "metadata": {},
   "source": [
    "Well done, this was youre first mito analysis.  \n",
    "\n",
    "🧑‍💻  Let's just try to replay the same cell again by running the cell with `mitosheet.sheet(loans_messy` again, and you will notice that you're transformed data will still be present!\n",
    "\n",
    "💡 Mito also created for you python code below that cell.\n",
    "\n",
    "\n",
    "🧑‍💻 Now, run also once that python workflow and you will see that it will generate the same result.\n",
    "\n",
    "\n",
    "💡 Be aware that the cell with the analysis workflow directly under the mito sheet is re-written everytime you make changes in mito.  \n",
    "Changes that you make in the python workflow below won't be reflected and will be lost as soon as you interact with the mito sheet.  \n",
    "Therefore it's recommended to copy+paste the python workflow first to a new cell before making changes to it.  \n",
    "\n",
    "💡 Important note: code gernerated by a widget is something very specific to mito which you won't find in most other widgets.  \n",
    "\n",
    "\n",
    "🧑‍💻 Task 2\n",
    "\n",
    "* Import now again the loans 'data2_loans.csv' file.\n",
    "* Calculate the difference between annual income and loan amount\n",
    "* Filter the dataset so we are only looking at car loans  \n",
    "* Create a pivot table that shows the average loan amount given out each month for each loan type. #QUESTION find out if loan type is the same as loan_condition\n",
    "* Fill all of the NaN values with 0\n",
    "\n"
   ]
  },
  {
   "cell_type": "code",
   "execution_count": null,
   "metadata": {},
   "outputs": [],
   "source": [
    "import pandas as pd\n",
    "loans = pd.read_csv('data2_loans.csv')\n",
    "\n",
    "mitosheet.sheet(loans, analysis_to_replay=\"id-syvevhxtuv\")"
   ]
  },
  {
   "cell_type": "code",
   "execution_count": null,
   "metadata": {},
   "outputs": [],
   "source": [
    "from mitosheet.public.v3 import *; register_analysis(\"id-syvevhxtuv\"); # BEFORE WORKSHOP : DELETE THIS AGAIN.\n",
    "# Added column new-column-93k1\n",
    "loans.insert(4, 'new-column-93k1', 0)\n",
    "\n",
    "# Set formula of new-column-93k1\n",
    "loans['new-column-93k1'] = loans[['annual_income']]\n",
    "\n",
    "# Renamed columns =\n",
    "loans.rename(columns={'new-column-93k1': '='}, inplace=True)\n",
    "\n",
    "# Renamed columns diff\n",
    "loans.rename(columns={'=': 'diff'}, inplace=True)\n",
    "\n",
    "# Filtered purpose\n",
    "loans = loans[loans['purpose'].apply(lambda val: all(val != s for s in ['credit_card', 'debt_consolidation', 'educational', 'home_improvement', 'house', 'major_purchase', 'medical', 'moving', 'other', 'renewable_energy', 'small_business', 'vacation', 'wedding']))]\n",
    "\n",
    "# Deleted columns diff\n",
    "loans.drop(['diff'], axis=1, inplace=True)\n",
    "\n",
    "# Pivoted loans into loans_pivot\n",
    "tmp_df = loans[['issue_date', 'loan_amount', 'income_category']].copy()\n",
    "pivot_table = tmp_df.pivot_table(\n",
    "    index=['issue_date'],\n",
    "    columns=['income_category'],\n",
    "    values=['loan_amount'],\n",
    "    aggfunc={'loan_amount': ['count']}\n",
    ")\n",
    "pivot_table = pivot_table.set_axis([flatten_column_header(col) for col in pivot_table.keys()], axis=1)\n",
    "loans_pivot = pivot_table.reset_index()\n",
    "\n",
    "# Filled NaN values in 1 columns in loans_pivot\n",
    "loans_pivot.fillna({'loan_amount count High': 0}, inplace=True)\n"
   ]
  },
  {
   "cell_type": "markdown",
   "metadata": {},
   "source": [
    "🧑‍💻 Task 3: Import the trade data for June and July and find the most recent trade for each stock from the file data4_equity_transactions.xlsx"
   ]
  },
  {
   "cell_type": "code",
   "execution_count": null,
   "metadata": {},
   "outputs": [],
   "source": [
    "mitosheet.sheet()"
   ]
  },
  {
   "cell_type": "code",
   "execution_count": null,
   "metadata": {},
   "outputs": [],
   "source": []
  }
 ],
 "metadata": {
  "kernelspec": {
   "display_name": "Python 3 (ipykernel)",
   "language": "python",
   "name": "python3"
  },
  "language_info": {
   "codemirror_mode": {
    "name": "ipython",
    "version": 3
   },
   "file_extension": ".py",
   "mimetype": "text/x-python",
   "name": "python",
   "nbconvert_exporter": "python",
   "pygments_lexer": "ipython3",
   "version": "3.11.4"
  },
  "vscode": {
   "interpreter": {
    "hash": "31f2aee4e71d21fbe5cf8b01ff0e069b9275f58929596ceb00d14d90e3e16cd6"
   }
  }
 },
 "nbformat": 4,
 "nbformat_minor": 4
}
