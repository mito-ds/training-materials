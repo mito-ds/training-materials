{
 "cells": [
  {
   "cell_type": "markdown",
   "metadata": {},
   "source": [
    "# Hands-on Mito"
   ]
  },
  {
   "cell_type": "markdown",
   "metadata": {},
   "source": [
    "Now that you know have a sold fundation in Jupyter, Python, Pandas, it's time to take your data exploration skills to the next level with Mito.\n",
    "\n",
    "Mito is a spreadsheet that lives inside your JupyterLab notebooks. \n",
    "\n",
    "It allows you to edit Pandas dataframes like an Excel file, and generates Python code that corresponds to each of your edits.\n",
    "\n",
    "\n",
    "## Initial exploration\n",
    "\n",
    "🧑‍💻 The first 10 minutes of this session you can freely explore the spreadsheet grafical user interface (GUI).\n",
    "\n",
    "The generated python code beneath the spreadsheet that you can ignore for now.  \n",
    "First, get familiar with the data and investigate the menu for yourself. "
   ]
  },
  {
   "cell_type": "code",
   "execution_count": null,
   "metadata": {
    "tags": []
   },
   "outputs": [],
   "source": [
    "import pandas as pd\n",
    "loans = pd.read_csv('data2_loans.csv')\n",
    "loans.head()"
   ]
  },
  {
   "cell_type": "code",
   "execution_count": null,
   "metadata": {
    "tags": []
   },
   "outputs": [],
   "source": [
    "import mitosheet\n",
    "mitosheet.sheet(loans, analysis_to_replay=\"id-wpfjbtsyap\")"
   ]
  },
  {
   "cell_type": "code",
   "execution_count": null,
   "metadata": {
    "tags": []
   },
   "outputs": [],
   "source": []
  },
  {
   "cell_type": "markdown",
   "metadata": {
    "tags": []
   },
   "source": [
    "When you're done with the 10 minutes exploration, you can go on with the next section.\n",
    "\n",
    "### Mito walkthrough\n",
    "\n",
    "In this section we will walk through some exercieses to oder to understand mito on the one hand, and study pandas dataframes one the other hand.\n",
    "\n",
    "But first some mito conventions to be aware of:\n",
    "* The initial call of `mitosheet.sheet()` will generate a analysis_to_replay=\"id-xxxxxxxxxx\") unique identifier.\n",
    "    * mito stores all spreadsheet transformation commands locally.   \n",
    "    The id makes sure this local stored data is linked correctly when the cell is run again.\n",
    "* Every single transformation command on the data from the mito GUI is recorded.  \n",
    "  Run the cell again, and all interactions that you made are restored.\n",
    "*   Every transformation command will add one line of pandas code below the spreadsheet\n",
    "\n",
    "Let's dive into mito with a first task!\n",
    "\n",
    "\n",
    "\n",
    "🧑‍💻 Task 1 \n",
    "* Import the csv file 'data3_sample_messy.csv'.   \n",
    "  * There are two options for you to load your data into mito. \n",
    "  * A) create a dataframe and import the dataframe`df = pd.read_csv('data3_sample_messy.csv')`  and `mitosheet.sheet(df)`\n",
    "  * B) Import the data directly from Mito.  \n",
    "  \n",
    "<br> \n",
    "\n",
    "* Cleanup the dataframe by making sure the columns are the right types, columns that only have one value are deleted, column header are clean and easy to work with.\n",
    "    * cast the Transaction_Value_$ type from \"string\" to \"int\"\n",
    "    * convert the dates that are strings to timetime format\n",
    "    * columns that only have one value should be deleted\n",
    "    * remove the substring STOCK-Ticker from the Ticker_with_Substring by using the Column Formula with LEFT and LEN.\n",
    "    * rename the header \"Unhelpfully_Long_Column_Name\"  to \"purchase\"\n",
    "    * export the new dataset as data_3_cleaned.csv\n"
   ]
  },
  {
   "cell_type": "code",
   "execution_count": null,
   "metadata": {
    "tags": []
   },
   "outputs": [],
   "source": [
    "import mitosheet\n",
    "mitosheet.sheet(analysis_to_replay=\"id-ckgmhiznfp\")"
   ]
  },
  {
   "cell_type": "code",
   "execution_count": null,
   "metadata": {},
   "outputs": [],
   "source": []
  },
  {
   "cell_type": "markdown",
   "metadata": {},
   "source": [
    "Well done, this was youre first mito analysis.  \n",
    "\n",
    "🧑‍💻  Let's just try to replay the same cell again by running the cell with `mitosheet.sheet(...` again, and you will notice that you're transformed data will still be present!\n",
    "\n",
    "💡 Mito also created for you python code below that cell.\n",
    "\n",
    "\n",
    "🧑‍💻 Now, run also once that python workflow and you will see that it will generate the same result.\n",
    "\n",
    "\n",
    "💡 Be aware that the cell with the analysis workflow directly under the mito sheet is re-written everytime you make changes in mito.  \n",
    "Changes that you make in the python workflow below won't be reflected back to mito and will be lost as soon as you interact with the mito sheet.  \n",
    "Therefore it's recommended to copy+paste the python workflow first to a new cell before making changes to it.  \n",
    "\n",
    "💡 Important note: code gernerated by a widget is something very specific to mito which you won't find in most other jupyter widgets.  \n",
    "\n",
    "\n",
    "🧑‍💻 Task 2\n",
    "\n",
    "* Import now again the loans 'data2_loans.csv' file.\n",
    "* Calculate the difference between annual income and loan amount\n",
    "* Filter the dataset so we are only looking at car loans  \n",
    "* Create a pivot table that shows the average loan amount given out each month for each loan purpose. \n",
    "* Fill all of the NaN values with 0\n",
    "\n"
   ]
  },
  {
   "cell_type": "code",
   "execution_count": null,
   "metadata": {
    "tags": []
   },
   "outputs": [],
   "source": [
    "import pandas as pd\n",
    "loans = pd.read_csv('data2_loans.csv')\n",
    "\n",
    "mitosheet.sheet(loans, analysis_to_replay=\"id-syvevhxtuv\")"
   ]
  },
  {
   "cell_type": "markdown",
   "metadata": {},
   "source": [
    "🧑‍💻 Task 3: Import the `data4_equity_transactions.xlsx` trade data from the mito GUI. Find the most recent trade for each stock from June and July."
   ]
  },
  {
   "cell_type": "code",
   "execution_count": null,
   "metadata": {
    "tags": []
   },
   "outputs": [],
   "source": [
    "mitosheet.sheet(analysis_to_replay=\"id-glgymyjseu\")"
   ]
  },
  {
   "cell_type": "code",
   "execution_count": null,
   "metadata": {},
   "outputs": [],
   "source": []
  },
  {
   "cell_type": "markdown",
   "metadata": {},
   "source": [
    "💡 Even if you delte the cell that contains the python flow by accident, as soon as you have the mitosheet cell with the  analysis_to_replay, running this mito sheet cell will bring back the python workflow.\n",
    "\n",
    "🧑‍💻 Task 4: Now you take the same dataset as before. For each successive trade of the same stock, calculate the **change in price**, and then export the result as an Excel file.  \n",
    "Hint: sort the data in ascending order of stock name, and then in ascending order of transaction date and then write the formula =IF(StockTicker1 == StockTicker0, StockPrice1 - StockPrice0, 0)\n"
   ]
  },
  {
   "cell_type": "code",
   "execution_count": null,
   "metadata": {
    "tags": []
   },
   "outputs": [],
   "source": [
    "mitosheet.sheet(analysis_to_replay=\"id-npdvhwlhai\")"
   ]
  },
  {
   "cell_type": "markdown",
   "metadata": {
    "tags": []
   },
   "source": [
    "💡  It's likely that you have quite a number of open mito sheets in your notebook. If you prefer working in a smaller document, go to edit -> \"Clear All Outputs.\" This will close all open mito sheets. Because every interaction is stored locally and linked with the analysis_to_replay id, you won't loose your work when clearing the output.\n",
    "\n",
    "🧑‍💻  Task 5: Data checks\n",
    "* Instructions:\n",
    "    * Import two dataframes, one called data5a_transactions_excel.csv and another called data5b_transactions_eagle.csv\n",
    "    * Merge them together on a column called `transaction_id`\n",
    "    * Use the generated code \n",
    "    * Write the Python code for performing the following checks. \n",
    "        * If the either dataset does not have a value in the `Quantity` column, set the value of the `Check` column to \"Missing Data from Excel\" or \"Missing Data from Eagle\". \n",
    "        * If the Quantity numbers are the same, set the value of the `Check` column to \"Matching\"\n",
    "        * If the numbers are not matching, set the value of the `Check` column to \"Quantity does not match\"\n",
    "    * Import the updated dataframe to Mito and separate the data in 3 different sheets, one for each condition\n",
    "    * Download an Excel file with three tabs  "
   ]
  },
  {
   "cell_type": "code",
   "execution_count": null,
   "metadata": {
    "tags": []
   },
   "outputs": [],
   "source": [
    "transactions_excel = pd.read_csv('data5a_transactions_excel.csv')\n",
    "transactions_eagle = pd.read_csv('data5b_transactions_eagle.csv')\n",
    "\n",
    "mitosheet.sheet(transactions_excel,transactions_eagle, analysis_to_replay=\"id-tlcwxngixl\")"
   ]
  },
  {
   "cell_type": "code",
   "execution_count": null,
   "metadata": {},
   "outputs": [],
   "source": []
  }
 ],
 "metadata": {
  "kernelspec": {
   "display_name": "Python 3 (ipykernel)",
   "language": "python",
   "name": "python3"
  },
  "language_info": {
   "codemirror_mode": {
    "name": "ipython",
    "version": 3
   },
   "file_extension": ".py",
   "mimetype": "text/x-python",
   "name": "python",
   "nbconvert_exporter": "python",
   "pygments_lexer": "ipython3",
   "version": "3.11.4"
  },
  "vscode": {
   "interpreter": {
    "hash": "31f2aee4e71d21fbe5cf8b01ff0e069b9275f58929596ceb00d14d90e3e16cd6"
   }
  }
 },
 "nbformat": 4,
 "nbformat_minor": 4
}
