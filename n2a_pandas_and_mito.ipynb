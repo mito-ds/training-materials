{
 "cells": [
  {
   "attachments": {},
   "cell_type": "markdown",
   "metadata": {},
   "source": [
    "# Hands-on Mito\n",
    "\n",
    "⏱️ 60 min.\n",
    "\n",
    "This is a 2 min - 8 min session.  \n",
    "2 minutes presentation from the beamer in the front.  \n",
    "8 minutes to repeat these actions yourself.   \n",
    "You will hear a ring every 10 minutes to be notified that one period is complete.\n",
    "\n"
   ]
  },
  {
   "attachments": {},
   "cell_type": "markdown",
   "metadata": {},
   "source": [
    "Period 0\n",
    "\n",
    "* what is the analysis_to_replay parameter?\n",
    "* how is the code generated below?\n",
    "* what happens when I run the code below?\n",
    "* What happens if I modify the code below and then change things in mito again?\n",
    "\n",
    "\n",
    "Period 1\n",
    "\n",
    "* Add Col/ Del Col\n",
    "* Undo redo clear\n",
    "* Renaming\n",
    "\n",
    "Period 2\n",
    "\n",
    "* Data types, More, less commas\n",
    "\n",
    "Period 3\n",
    "\n",
    "* Filter sort descending, unique values\n",
    "\n",
    "\n",
    "Period 4\n",
    "\n",
    "\n",
    "* Graph , switching tabs, updating data, switching back\n",
    "\n",
    "\n",
    "Period 5\n",
    "\n",
    "* Pivot table\n",
    "\n",
    " \n",
    "\n",
    "* "
   ]
  },
  {
   "cell_type": "code",
   "execution_count": null,
   "metadata": {
    "tags": []
   },
   "outputs": [],
   "source": [
    "import pandas as pd\n",
    "df = pd.DataFrame([[1.0,2.0,3.0],[4.0,5.0,6.0],[7.0,8.0,9.0]], columns=list(\"ABC\"))"
   ]
  },
  {
   "cell_type": "code",
   "execution_count": null,
   "metadata": {
    "tags": []
   },
   "outputs": [],
   "source": [
    "import mitosheet\n",
    "mitosheet.sheet(df, analysis_to_replay=\"id-novhvnmzpv\")"
   ]
  },
  {
   "cell_type": "code",
   "execution_count": null,
   "metadata": {
    "tags": []
   },
   "outputs": [],
   "source": [
    "from mitosheet.public.v3 import *; register_analysis(\"id-novhvnmzpv\");\n",
    "# Filtered A\n",
    "df = df[df['B'] != 4]\n",
    "df"
   ]
  },
  {
   "cell_type": "code",
   "execution_count": null,
   "metadata": {},
   "outputs": [],
   "source": [
    "import pandas as pd"
   ]
  },
  {
   "cell_type": "code",
   "execution_count": null,
   "metadata": {
    "tags": []
   },
   "outputs": [],
   "source": [
    "dw = pd.DataFrame([[\"w\",\"w\",\"w\"]], columns=list(\"ABC\"))"
   ]
  },
  {
   "cell_type": "code",
   "execution_count": null,
   "metadata": {},
   "outputs": [],
   "source": [
    "\n",
    "import pandas as pd\n",
    "\n",
    "data = pd.read_csv('data2_loans.csv')\n",
    "print(data.head())"
   ]
  },
  {
   "cell_type": "code",
   "execution_count": null,
   "metadata": {},
   "outputs": [],
   "source": [
    "* Index of maximum\n",
    "* Index of minimum\n",
    "* Concatenation\n",
    "* Merge"
   ]
  }
 ],
 "metadata": {
  "kernelspec": {
   "display_name": "Python 3 (ipykernel)",
   "language": "python",
   "name": "python3"
  },
  "language_info": {
   "codemirror_mode": {
    "name": "ipython",
    "version": 3
   },
   "file_extension": ".py",
   "mimetype": "text/x-python",
   "name": "python",
   "nbconvert_exporter": "python",
   "pygments_lexer": "ipython3",
   "version": "3.11.4"
  }
 },
 "nbformat": 4,
 "nbformat_minor": 4
}
