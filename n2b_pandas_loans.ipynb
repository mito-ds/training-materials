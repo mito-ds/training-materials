{
 "cells": [
  {
   "attachments": {},
   "cell_type": "markdown",
   "metadata": {},
   "source": [
    "# Hands-on Loans\n",
    "\n",
    "⏱️ 60 min."
   ]
  },
  {
   "attachments": {},
   "cell_type": "markdown",
   "metadata": {
    "tags": []
   },
   "source": [
    "**TODO** Find out how to structure this.  \n",
    "Should students also make changes to the code in this session?\n",
    "\n",
    "In mito with pandas like before\n",
    "* Type changing\n",
    "* Casting from string to float\n",
    "    * Boolean to int\n",
    "    * String to datetime\n",
    "    * Concatenating dataframes on top of each other\n",
    "    * De-doublicating (some names appear twice in a column, remove the ones that are double)\n",
    "* Run the resulting workflow\n",
    "* E-mail the resulting workflow to your office mate, s/he will be able to reproduce that one!\n"
   ]
  },
  {
   "cell_type": "code",
   "execution_count": null,
   "metadata": {
    "tags": []
   },
   "outputs": [],
   "source": [
    "import pandas as pd\n",
    "\n",
    "data = pd.read_csv('data2_loans.csv')\n",
    "data.head()"
   ]
  },
  {
   "cell_type": "code",
   "execution_count": null,
   "metadata": {
    "tags": []
   },
   "outputs": [],
   "source": [
    "import mitosheet\n",
    "mitosheet.sheet(data, analysis_to_replay=\"id-rphyxhbmxj\")"
   ]
  },
  {
   "cell_type": "code",
   "execution_count": null,
   "metadata": {},
   "outputs": [],
   "source": [
    "from mitosheet.public.v3 import *; register_analysis(\"id-rphyxhbmxj\");\n",
    "# Pivoted data into data_pivot\n",
    "tmp_df = data[['income_category', 'purpose']].copy()\n",
    "pivot_table = tmp_df.pivot_table(\n",
    "    index=['income_category'],\n",
    "    columns=['purpose'],\n",
    "    values=['purpose'],\n",
    "    aggfunc={'purpose': ['count']}\n",
    ")\n",
    "pivot_table = pivot_table.set_axis([flatten_column_header(col) for col in pivot_table.keys()], axis=1)\n",
    "data_pivot = pivot_table.reset_index()\n",
    "\n",
    "# Sorted income_category in descending order\n",
    "data_pivot = data_pivot.sort_values(by='income_category', ascending=False, na_position='last')\n",
    "\n",
    "# Pivoted data into data_pivot\n",
    "tmp_df = data[['income_category', 'purpose']].copy()\n",
    "pivot_table = tmp_df.pivot_table(\n",
    "    index=['purpose'],\n",
    "    columns=['income_category'],\n",
    "    values=['purpose'],\n",
    "    aggfunc={'purpose': ['count']}\n",
    ")\n",
    "pivot_table = pivot_table.set_axis([flatten_column_header(col) for col in pivot_table.keys()], axis=1)\n",
    "data_pivot = pivot_table.reset_index()\n",
    "\n",
    "# Sorted purpose count High in descending order\n",
    "data_pivot = data_pivot.sort_values(by='purpose count High', ascending=False, na_position='last')\n",
    "\n",
    "# Sorted purpose count Low in ascending order\n",
    "data_pivot = data_pivot.sort_values(by='purpose count Low', ascending=True, na_position='first')\n",
    "\n",
    "# Sorted purpose count Medium in ascending order\n",
    "data_pivot = data_pivot.sort_values(by='purpose count Medium', ascending=True, na_position='first')\n",
    "\n",
    "# Sorted purpose count Low in ascending order\n",
    "data_pivot = data_pivot.sort_values(by='purpose count Low', ascending=True, na_position='first')\n",
    "\n",
    "# Sorted purpose count High in ascending order\n",
    "data_pivot = data_pivot.sort_values(by='purpose count High', ascending=True, na_position='first')\n"
   ]
  }
 ],
 "metadata": {
  "kernelspec": {
   "display_name": "Python 3 (ipykernel)",
   "language": "python",
   "name": "python3"
  },
  "language_info": {
   "codemirror_mode": {
    "name": "ipython",
    "version": 3
   },
   "file_extension": ".py",
   "mimetype": "text/x-python",
   "name": "python",
   "nbconvert_exporter": "python",
   "pygments_lexer": "ipython3",
   "version": "3.11.4"
  }
 },
 "nbformat": 4,
 "nbformat_minor": 4
}
