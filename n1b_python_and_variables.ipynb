{
 "cells": [
  {
   "attachments": {},
   "cell_type": "markdown",
   "metadata": {},
   "source": [
    "# Python and Variables\n",
    "⏱️ 45 min.\n",
    "\n",
    "### Comments in python\n",
    "\n",
    "\n",
    "💡 You can use  \"#\" to add comments.\n",
    "\n",
    "🧑‍💻 Below, comment in the first line and comment out the second."
   ]
  },
  {
   "cell_type": "code",
   "execution_count": null,
   "metadata": {},
   "outputs": [],
   "source": [
    "# print(\"hello\")\n",
    "print(\"world\")"
   ]
  },
  {
   "attachments": {},
   "cell_type": "markdown",
   "metadata": {},
   "source": [
    "# Variables and data types \n",
    "\n",
    "\n",
    "**Data types** are useful to give structure to our data.   \n",
    "Before we dive more into these data types, let's fist talk about **vairables**.\n",
    "\n",
    "💡 variables can be used to store any data type.\n",
    "\n",
    "e.g. `i = 1` will store the integer `1` into the variable called `i`.\n",
    "\n",
    "🧑‍💻 Below, store the integer 1 in the variable i and print it."
   ]
  },
  {
   "cell_type": "code",
   "execution_count": null,
   "metadata": {},
   "outputs": [],
   "source": []
  },
  {
   "attachments": {},
   "cell_type": "markdown",
   "metadata": {},
   "source": [
    "💡 In Jupyter, the last line's result gets shown automatically if not stored in a variable.   \n",
    "This helps to instantly check results.\n",
    "\n",
    "🧑‍💻 Run the below cells. Predict the output before running."
   ]
  },
  {
   "cell_type": "code",
   "execution_count": null,
   "metadata": {},
   "outputs": [],
   "source": [
    "k = 1"
   ]
  },
  {
   "cell_type": "code",
   "execution_count": null,
   "metadata": {},
   "outputs": [],
   "source": [
    "1"
   ]
  },
  {
   "cell_type": "code",
   "execution_count": null,
   "metadata": {},
   "outputs": [],
   "source": [
    "m = 2\n",
    "m"
   ]
  },
  {
   "attachments": {},
   "cell_type": "markdown",
   "metadata": {},
   "source": [
    "🧑‍💻 Run the below cell, switch the last to lines and run again.  \n",
    "🧑‍💻 Afterwards, replace the last two lines with one line x , y and run again."
   ]
  },
  {
   "cell_type": "code",
   "execution_count": null,
   "metadata": {},
   "outputs": [],
   "source": [
    "x = 3\n",
    "y = 4\n",
    "x\n",
    "y"
   ]
  },
  {
   "attachments": {},
   "cell_type": "markdown",
   "metadata": {},
   "source": [
    "Now you will learn about python **data types**. \n",
    "\n",
    "💡 Python has many data types, here are the most important ones that will be covered in this section.\n",
    "\n",
    "* Integer, \n",
    "* Float, \n",
    "* String, \n",
    "* Boolean, \n",
    "* None\n",
    "* List\n",
    "* Tuple\n",
    "\n",
    "There are more, but these won't be covered in this tutorial.\n",
    "\n",
    "🧑‍💻 Run the below 6 cells and afterwards add a comment after each cell that speficies the data type."
   ]
  },
  {
   "cell_type": "code",
   "execution_count": null,
   "metadata": {},
   "outputs": [],
   "source": [
    "40"
   ]
  },
  {
   "cell_type": "code",
   "execution_count": null,
   "metadata": {},
   "outputs": [],
   "source": [
    "\"Hello World\""
   ]
  },
  {
   "cell_type": "code",
   "execution_count": null,
   "metadata": {},
   "outputs": [],
   "source": [
    "True"
   ]
  },
  {
   "cell_type": "code",
   "execution_count": null,
   "metadata": {},
   "outputs": [],
   "source": [
    "[\"surf\", \"beach\", \"water\"]"
   ]
  },
  {
   "cell_type": "code",
   "execution_count": null,
   "metadata": {},
   "outputs": [],
   "source": [
    "(\"surf\", \"beach\", \"water\")"
   ]
  },
  {
   "cell_type": "code",
   "execution_count": null,
   "metadata": {},
   "outputs": [],
   "source": [
    "None"
   ]
  },
  {
   "cell_type": "code",
   "execution_count": null,
   "metadata": {},
   "outputs": [],
   "source": [
    "3.14"
   ]
  },
  {
   "attachments": {},
   "cell_type": "markdown",
   "metadata": {},
   "source": [
    "🧑‍💻 Below, uncomment the code and assign each variable to a datatype.  \n",
    "It might be tempting to just copy paste the above ones but feel encouraged to come up with your own ones.  \n",
    "Typing them by hand will help getting familiar with them.   "
   ]
  },
  {
   "cell_type": "code",
   "execution_count": null,
   "metadata": {},
   "outputs": [],
   "source": [
    "# var_int = \n",
    "# var_float =\n",
    "# var_string =\n",
    "# var_bool =\n",
    "# var_none =\n",
    "# var_list =\n",
    "# var_tuple ="
   ]
  },
  {
   "attachments": {},
   "cell_type": "markdown",
   "metadata": {},
   "source": [
    "Now we will deep-dive into all of these data types and operations on them.\n",
    "\n",
    "First, we start with some math with  **int** and **float**.    \n",
    "\n",
    "# Int, Float, and Operators\n",
    "\n",
    "💡 For doing math, you can use the **operators**  **+**, **-**, **\\***, **/**, **`%`**, **\\*\\***  \n",
    "🧑‍💻 Test these operators in the below cell by replacing the operation in between the two number.  \n",
    "Please don't copy paste them. Typing them by hand will help getting familiar with them.   "
   ]
  },
  {
   "cell_type": "code",
   "execution_count": null,
   "metadata": {},
   "outputs": [],
   "source": [
    "3+4"
   ]
  },
  {
   "attachments": {},
   "cell_type": "markdown",
   "metadata": {},
   "source": [
    "💡 For comparing two values, we can use the **operators**: **==**  , **!=** , **<** , **>** , **<=** , **>=** .  \n",
    "\n",
    "🧑‍💻 Test these operators in the below cell by replacing the operation in between the two number.  \n",
    "Please don't copy paste them. Typing them by hand will help getting familiar with them.   "
   ]
  },
  {
   "cell_type": "code",
   "execution_count": null,
   "metadata": {},
   "outputs": [],
   "source": [
    "3 == 4"
   ]
  },
  {
   "attachments": {},
   "cell_type": "markdown",
   "metadata": {},
   "source": [
    "Next, a quick recap on boleans and if conditions.\n",
    "\n",
    "💡 Booleans can be used for conditional statements.  \n",
    "💡 Python uses **indentation** to indicate a block of code.\n",
    "\n",
    "🧑‍💻  Run the below cell. Predict the output before running."
   ]
  },
  {
   "cell_type": "code",
   "execution_count": null,
   "metadata": {},
   "outputs": [],
   "source": [
    "if 10 > 5:\n",
    "  print(\"Yes, 10 is greater than 5\")"
   ]
  },
  {
   "cell_type": "code",
   "execution_count": null,
   "metadata": {},
   "outputs": [],
   "source": [
    "goodWaves = False\n",
    "if goodWaves:\n",
    "  print(\"Let's go surfing!🌊\")\n",
    "else:\n",
    "  print(\"No good waves? Guess I'll just surf the internet then!\")"
   ]
  },
  {
   "attachments": {},
   "cell_type": "markdown",
   "metadata": {},
   "source": [
    "💡  You can use the logical operators  **and**, **or**, and **not** to join together conditions.\n",
    "\n",
    "🧑‍💻  Run the below cells. Predict the output before running."
   ]
  },
  {
   "cell_type": "code",
   "execution_count": null,
   "metadata": {},
   "outputs": [],
   "source": [
    "goodWaves = True\n",
    "surfboard = True\n",
    "\n",
    "if goodWaves and surfboard:\n",
    "    print(\"You're ready to go surfing!🏄‍♀️\")"
   ]
  },
  {
   "cell_type": "code",
   "execution_count": null,
   "metadata": {},
   "outputs": [],
   "source": [
    "sunscreen = False\n",
    "clouds = True\n",
    "\n",
    "if sunscreen or clouds:\n",
    "    print(\"You are protected from sunburn while surfing!🌞\")"
   ]
  },
  {
   "cell_type": "code",
   "execution_count": null,
   "metadata": {},
   "outputs": [],
   "source": [
    "sharksNearby = False\n",
    "\n",
    "if not sharksNearby:\n",
    "    print(\"It's safe to surf here, only dolphins!🐬\")"
   ]
  },
  {
   "attachments": {},
   "cell_type": "markdown",
   "metadata": {},
   "source": [
    "Congrats, we are already halfway through the python course! 🎉  \n",
    "💡 Please don't memorize all syntax, just get a feeling for it and know where to look it up."
   ]
  },
  {
   "attachments": {},
   "cell_type": "markdown",
   "metadata": {},
   "source": [
    "# Strings in action"
   ]
  },
  {
   "attachments": {},
   "cell_type": "markdown",
   "metadata": {},
   "source": [
    "💡  Operators can also be applied on stings!  \n",
    "\n",
    "🧑‍💻  Run the below cell. Predict the output before running."
   ]
  },
  {
   "cell_type": "code",
   "execution_count": null,
   "metadata": {},
   "outputs": [],
   "source": [
    "place = \"Malibu\"\n",
    "\"Today's surf spot is \" + place"
   ]
  },
  {
   "attachments": {},
   "cell_type": "markdown",
   "metadata": {},
   "source": [
    "Here are some useful ways to interact with strings.\n",
    "\n",
    "🧑‍💻  Run the below cell. Predict the output before running."
   ]
  },
  {
   "cell_type": "code",
   "execution_count": null,
   "metadata": {},
   "outputs": [],
   "source": [
    "len(place)"
   ]
  },
  {
   "cell_type": "code",
   "execution_count": null,
   "metadata": {},
   "outputs": [],
   "source": [
    "place.lower()"
   ]
  },
  {
   "cell_type": "code",
   "execution_count": null,
   "metadata": {},
   "outputs": [],
   "source": [
    "place.upper()"
   ]
  },
  {
   "cell_type": "code",
   "execution_count": null,
   "metadata": {},
   "outputs": [],
   "source": [
    "place[0]"
   ]
  },
  {
   "cell_type": "code",
   "execution_count": null,
   "metadata": {},
   "outputs": [],
   "source": [
    "place[-1]"
   ]
  },
  {
   "cell_type": "code",
   "execution_count": null,
   "metadata": {},
   "outputs": [],
   "source": [
    "place[0:3]"
   ]
  },
  {
   "attachments": {},
   "cell_type": "markdown",
   "metadata": {},
   "source": [
    "💡 Notice that you can access individual characters in a string using indexing.  \n",
    "\n",
    "This can be also useful for the datatype **list**.\n",
    "\n",
    "# Lists\n",
    "\n",
    "🧑‍💻  Run the below cells. Predict the output before running."
   ]
  },
  {
   "cell_type": "code",
   "execution_count": null,
   "metadata": {},
   "outputs": [],
   "source": [
    "activities = [\"Surfing\", \"Swimming\", \"Diving\"]\n",
    "activities"
   ]
  },
  {
   "attachments": {},
   "cell_type": "markdown",
   "metadata": {},
   "source": [
    "💡 Notice that the first element starts at index at 0 in python.\n"
   ]
  },
  {
   "cell_type": "code",
   "execution_count": null,
   "metadata": {},
   "outputs": [],
   "source": [
    "activities[0]"
   ]
  },
  {
   "cell_type": "code",
   "execution_count": null,
   "metadata": {},
   "outputs": [],
   "source": [
    "len(activities)"
   ]
  },
  {
   "cell_type": "code",
   "execution_count": null,
   "metadata": {},
   "outputs": [],
   "source": [
    "activities[-1]"
   ]
  },
  {
   "attachments": {},
   "cell_type": "markdown",
   "metadata": {},
   "source": [
    "💡 A list can contain any type of data:"
   ]
  },
  {
   "cell_type": "code",
   "execution_count": null,
   "metadata": {},
   "outputs": [],
   "source": [
    "mylist = [\"Hiking\", 29, True]"
   ]
  },
  {
   "attachments": {},
   "cell_type": "markdown",
   "metadata": {},
   "source": [
    "💡 Lists are mutable, that means they can be changed after creation."
   ]
  },
  {
   "cell_type": "code",
   "execution_count": null,
   "metadata": {},
   "outputs": [],
   "source": [
    "mylist[0] = \"Surfing\"\n",
    "mylist"
   ]
  },
  {
   "attachments": {},
   "cell_type": "markdown",
   "metadata": {},
   "source": [
    "💡 **Tuples** are immutable, that means they can **not** be changed after creation. Otherwise they are very similar to lists.   \n",
    "🧑‍💻  Comprehend what happes in the below cell. "
   ]
  },
  {
   "cell_type": "code",
   "execution_count": null,
   "metadata": {},
   "outputs": [],
   "source": [
    "mytuple = (\"Biking\", 30, True)"
   ]
  },
  {
   "cell_type": "code",
   "execution_count": null,
   "metadata": {},
   "outputs": [],
   "source": [
    "mytuple[0]"
   ]
  },
  {
   "cell_type": "code",
   "execution_count": null,
   "metadata": {},
   "outputs": [],
   "source": [
    "len(mytuple)"
   ]
  },
  {
   "attachments": {},
   "cell_type": "markdown",
   "metadata": {},
   "source": [
    "🧑‍💻  Now try to re-assign the second element of the tuple `mytuple` to the value 42. You should see an error now."
   ]
  },
  {
   "cell_type": "code",
   "execution_count": null,
   "metadata": {},
   "outputs": [],
   "source": []
  },
  {
   "attachments": {},
   "cell_type": "markdown",
   "metadata": {},
   "source": [
    "💡 You can also convert certain data types into other ones. That's called casting.  \n",
    "🧑‍💻  Comprehend what happes in the below cell."
   ]
  },
  {
   "cell_type": "code",
   "execution_count": null,
   "metadata": {},
   "outputs": [],
   "source": [
    "\n",
    "print(int(4))     # out: 4\n",
    "print(int(3.6))   # out: 3\n",
    "print(int(\"5\"))   # out: 5\n",
    "\n",
    "print(float(6))       # out: 6.0\n",
    "print(float(4.6))     # out: 4.6\n",
    "print(float(\"7\"))     # out: 7.0\n",
    "print(float(\"5.3\"))   # out: 5.3\n",
    "\n",
    "print(str(\"hello42\"))    # out: 'hello42'\n",
    "print(str(3))       # out: '3'\n",
    "print(str(4.5))     # out: '4.5'"
   ]
  },
  {
   "attachments": {},
   "cell_type": "markdown",
   "metadata": {},
   "source": [
    "Well done, let's learn more about the control flow."
   ]
  }
 ],
 "metadata": {
  "kernelspec": {
   "display_name": "base",
   "language": "python",
   "name": "python3"
  },
  "language_info": {
   "codemirror_mode": {
    "name": "ipython",
    "version": 3
   },
   "file_extension": ".py",
   "mimetype": "text/x-python",
   "name": "python",
   "nbconvert_exporter": "python",
   "pygments_lexer": "ipython3",
   "version": "3.11.4"
  },
  "orig_nbformat": 4
 },
 "nbformat": 4,
 "nbformat_minor": 2
}
