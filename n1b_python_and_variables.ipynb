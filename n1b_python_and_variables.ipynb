{
 "cells": [
  {
   "attachments": {},
   "cell_type": "markdown",
   "metadata": {},
   "source": [
    "# Python and variables\n",
    "⏱️ 45 min.\n",
    "\n",
    "## Comments in python\n",
    "\n",
    "\n",
    "💡 You can use \"#\" to add comments. Adding comments to your code helps you stay organized and remember what each section of code is supposed to do.\n",
    "\n",
    "🧑‍💻 Run the code below to see the effect of adding a comment."
   ]
  },
  {
   "cell_type": "code",
   "execution_count": null,
   "metadata": {},
   "outputs": [],
   "source": [
    "# print(\"hello\")\n",
    "print(\"world\")"
   ]
  },
  {
   "attachments": {},
   "cell_type": "markdown",
   "metadata": {},
   "source": [
    "## Variables\n",
    "\n",
    "💡 Variables are named buckets that store data.\n",
    "\n",
    "e.g. `i = 1` will store the integer `1` into the variable called `i`.\n",
    "\n",
    "🧑‍💻 Below, store the integer 1 in the variable i and print it."
   ]
  },
  {
   "cell_type": "code",
   "execution_count": null,
   "metadata": {},
   "outputs": [],
   "source": [
    "# TODO: Replace me with your code"
   ]
  },
  {
   "attachments": {},
   "cell_type": "markdown",
   "metadata": {},
   "source": [
    "💡 Python best practices says that variable names should be lowercase, each word should be separated by an underscore instead of space, and they shouldn't start with digits.  \n",
    "🧑‍💻 Run the below cells. They will throw error messages. Read the error messages, try to understand them, and then try to correct the code. Getting good at understanding error messages is a critical part of becoming an effective programmer."
   ]
  },
  {
   "cell_type": "code",
   "execution_count": null,
   "metadata": {},
   "outputs": [],
   "source": [
    "my number = 5"
   ]
  },
  {
   "cell_type": "code",
   "execution_count": null,
   "metadata": {},
   "outputs": [],
   "source": [
    "42number = 5"
   ]
  },
  {
   "attachments": {},
   "cell_type": "markdown",
   "metadata": {},
   "source": [
    "💡 In Jupyter, the result of the last line of Python code in each code cell is automatically printed if it is not stored in a variable. Sometimes this is helpful to immedietly see the results of your actions. \n",
    "\n",
    "🧑‍💻 Run the below cells. Predict the output before running."
   ]
  },
  {
   "cell_type": "code",
   "execution_count": null,
   "metadata": {},
   "outputs": [],
   "source": [
    "k = 1"
   ]
  },
  {
   "cell_type": "code",
   "execution_count": null,
   "metadata": {},
   "outputs": [],
   "source": [
    "1"
   ]
  },
  {
   "cell_type": "code",
   "execution_count": null,
   "metadata": {},
   "outputs": [],
   "source": [
    "m = 2\n",
    "m"
   ]
  },
  {
   "cell_type": "code",
   "execution_count": null,
   "metadata": {},
   "outputs": [],
   "source": [
    "x = 3\n",
    "y = 4\n",
    "x\n",
    "y"
   ]
  },
  {
   "attachments": {},
   "cell_type": "markdown",
   "metadata": {},
   "source": [
    "## Python Data Types\n",
    "\n",
    "💡 Python has many data types. Here are the most important ones that we'll cover\n",
    "\n",
    "* Integer\n",
    "* Float \n",
    "* String\n",
    "* Boolean\n",
    "* None \n",
    "* List\n",
    "* Dict\n",
    "\n",
    "There are more, but they aren't super relevant to automating reports, so we'll ignore them for now.\n",
    "\n",
    "🧑‍💻 Add a comment to each of the following 6 cells that lists each data type. If you're not sure what it is, try wrapping the data type in the type() function and checking the results."
   ]
  },
  {
   "cell_type": "code",
   "execution_count": null,
   "metadata": {},
   "outputs": [],
   "source": [
    "40"
   ]
  },
  {
   "cell_type": "code",
   "execution_count": null,
   "metadata": {},
   "outputs": [],
   "source": [
    "\"Hello World\""
   ]
  },
  {
   "cell_type": "code",
   "execution_count": null,
   "metadata": {},
   "outputs": [],
   "source": [
    "True"
   ]
  },
  {
   "cell_type": "code",
   "execution_count": null,
   "metadata": {},
   "outputs": [],
   "source": [
    "[\"surf\", \"beach\", \"water\"]"
   ]
  },
  {
   "cell_type": "code",
   "execution_count": null,
   "metadata": {},
   "outputs": [],
   "source": [
    "{\"sand\": \"tiny grains\", \"shell\": \"sea creature home\", \"wave\": \"ocean's rhythm\"}"
   ]
  },
  {
   "cell_type": "code",
   "execution_count": null,
   "metadata": {},
   "outputs": [],
   "source": [
    "None"
   ]
  },
  {
   "cell_type": "code",
   "execution_count": null,
   "metadata": {},
   "outputs": [],
   "source": [
    "3.14"
   ]
  },
  {
   "attachments": {},
   "cell_type": "markdown",
   "metadata": {},
   "source": [
    "🧑‍💻 Below, uncomment the code and assign data to each variable datatype. Try doing it without checking the examples above!\n",
    "Typing them by hand will help getting familiar with them.   "
   ]
  },
  {
   "cell_type": "code",
   "execution_count": null,
   "metadata": {},
   "outputs": [],
   "source": [
    "# var_int = \n",
    "# var_float =\n",
    "# var_string =\n",
    "# var_bool =\n",
    "# var_none =\n",
    "# var_list =\n",
    "# var_dict ="
   ]
  },
  {
   "attachments": {},
   "cell_type": "markdown",
   "metadata": {},
   "source": [
    "Now that we know the basic Python data types, let's learn how to use them in our code\n",
    "\n",
    "## Int, Float, and Operators\n",
    "\n",
    "💡 To perform basic math, use the **operators**  **+**, **-**, **\\***, **/**, **%**, **\\*\\***  \n",
    "🧑‍💻 Double check your mental math skills by using a few of these operators in code cell below.  "
   ]
  },
  {
   "cell_type": "code",
   "execution_count": null,
   "metadata": {},
   "outputs": [],
   "source": [
    "3+4"
   ]
  },
  {
   "attachments": {},
   "cell_type": "markdown",
   "metadata": {},
   "source": [
    "💡 To compare two values, use the **operators**: **==**  , **!=** , **<** , **>** , **<=** , **>=**. \n",
    "\n",
    "Notice that unlike Excel, Excel uses **==** to check if two values are equal, and **!=** to check if two values are different\n",
    "\n",
    "🧑‍💻 Test these operators in the below cell by replacing the operation in between the two number.  \n"
   ]
  },
  {
   "cell_type": "code",
   "execution_count": null,
   "metadata": {},
   "outputs": [],
   "source": [
    "3 == 4"
   ]
  },
  {
   "attachments": {},
   "cell_type": "markdown",
   "metadata": {},
   "source": [
    "It's common to combine conditional operators with if conditions to control the flow of your code\n",
    "\n",
    "💡 Booleans can be used for conditional statements.  \n",
    "💡 Python uses **indentation** to indicate a block of code.\n",
    "\n",
    "🧑‍💻  Run the below cell. "
   ]
  },
  {
   "cell_type": "code",
   "execution_count": null,
   "metadata": {},
   "outputs": [],
   "source": [
    "if 10 > 5:\n",
    "    print(\"Yes, 10 is greater than 5\")"
   ]
  },
  {
   "cell_type": "code",
   "execution_count": null,
   "metadata": {},
   "outputs": [],
   "source": [
    "good_waves = False\n",
    "if good_waves:\n",
    "    print(\"Let's go surfing!🌊\")\n",
    "else:\n",
    "    print(\"No good waves? Guess I'll just surf the internet then!\")"
   ]
  },
  {
   "attachments": {},
   "cell_type": "markdown",
   "metadata": {},
   "source": [
    "💡 Use the logical operators  **and**, **or**, and **not** to combine conditions.\n",
    "\n",
    "🧑‍💻 Run the below cells."
   ]
  },
  {
   "cell_type": "code",
   "execution_count": null,
   "metadata": {},
   "outputs": [],
   "source": [
    "good_waves = True\n",
    "surfboard = True\n",
    "\n",
    "if good_waves and surfboard:\n",
    "    print(\"You're ready to go surfing!🏄‍♀️\")"
   ]
  },
  {
   "cell_type": "code",
   "execution_count": null,
   "metadata": {},
   "outputs": [],
   "source": [
    "sunscreen = False\n",
    "clouds = True\n",
    "\n",
    "if sunscreen or clouds:\n",
    "    print(\"You are protected from sunburn while surfing!🌞\")"
   ]
  },
  {
   "cell_type": "code",
   "execution_count": null,
   "metadata": {},
   "outputs": [],
   "source": [
    "sharks_nearby = False\n",
    "\n",
    "if not sharks_nearby:\n",
    "    print(\"It's safe to surf here, only dolphins!🐬\")"
   ]
  },
  {
   "cell_type": "markdown",
   "metadata": {},
   "source": [
    "💡 Sometimes you'll want to check a cascade of conditions. You can do so using `elif` conditions, which only get checked if the prior `if` and `elif` conditions did not evaluate to True.\n",
    "\n",
    "🧑‍💻 Run the below cell. Try changing the name "
   ]
  },
  {
   "cell_type": "code",
   "execution_count": null,
   "metadata": {},
   "outputs": [],
   "source": [
    "country = 'Canada'\n",
    "\n",
    "if country == 'USA':\n",
    "    print('Hello from USA!')\n",
    "elif country == 'Canada':\n",
    "    print('Hello from Canada!')\n",
    "else:\n",
    "    print('Where am I?')"
   ]
  },
  {
   "attachments": {},
   "cell_type": "markdown",
   "metadata": {},
   "source": [
    "Now it's your turn to practice!   \n",
    "\n",
    "🧑‍💻  Write code that compares two variables x and y and prints either \"x is greater than y\" or \"y is greater than x\".\n",
    "\n",
    "Hint: Make sure you also create the `x` and `y` variables so the code runs!"
   ]
  },
  {
   "cell_type": "code",
   "execution_count": null,
   "metadata": {},
   "outputs": [],
   "source": [
    "# TODO: Replace me with your code"
   ]
  },
  {
   "attachments": {},
   "cell_type": "markdown",
   "metadata": {},
   "source": [
    "🧑‍💻  Write a code cell that defines an integer my_val and then checks if the integer is greater 50 but smaller than 100."
   ]
  },
  {
   "cell_type": "code",
   "execution_count": null,
   "metadata": {},
   "outputs": [],
   "source": [
    "# TODO: Replace me with your code"
   ]
  },
  {
   "attachments": {},
   "cell_type": "markdown",
   "metadata": {},
   "source": [
    "💡 Sometimes you'll need to nest conditionals to express more complex logic.\n",
    "\n",
    "\n",
    "🧑‍💻 Write a code cell that prints \"large!\" if my_val is greater than 100, and also prints \"even\" if the variable is even."
   ]
  },
  {
   "cell_type": "code",
   "execution_count": null,
   "metadata": {},
   "outputs": [],
   "source": [
    "# TODO: Replace me with your code"
   ]
  },
  {
   "cell_type": "markdown",
   "metadata": {},
   "source": [
    "# TODO Lets create another excercise here that is a little bit more challenging. Maybe we can get one from Project Euler just to keep people engaged! \n",
    "# These are smart people that like challenges :) "
   ]
  },
  {
   "cell_type": "code",
   "execution_count": null,
   "metadata": {},
   "outputs": [],
   "source": [
    "# TODO: Replace me with your code"
   ]
  },
  {
   "attachments": {},
   "cell_type": "markdown",
   "metadata": {},
   "source": [
    "Congrats, we are already halfway through the python course! 🎉  \n",
    "💡 Please don't memorize all syntax, just get a feeling for it and know where to look it up."
   ]
  },
  {
   "attachments": {},
   "cell_type": "markdown",
   "metadata": {},
   "source": [
    "## Strings"
   ]
  },
  {
   "attachments": {},
   "cell_type": "markdown",
   "metadata": {},
   "source": [
    "💡  Operators can also be applied to stings!  \n",
    "\n",
    "🧑‍💻  Run the below cell. Predict the output before running."
   ]
  },
  {
   "cell_type": "code",
   "execution_count": null,
   "metadata": {},
   "outputs": [],
   "source": [
    "place = \"Malibu\"\n",
    "\"Today's surf spot is \" + place"
   ]
  },
  {
   "attachments": {},
   "cell_type": "markdown",
   "metadata": {},
   "source": [
    "Python has some built in functions for working with strings. Here are a few of the most useful ones!\n",
    "\n",
    "🧑‍💻  Run the below cell. Predict the output before running."
   ]
  },
  {
   "cell_type": "code",
   "execution_count": null,
   "metadata": {},
   "outputs": [],
   "source": [
    "len(place)"
   ]
  },
  {
   "cell_type": "code",
   "execution_count": null,
   "metadata": {},
   "outputs": [],
   "source": [
    "place.lower()"
   ]
  },
  {
   "cell_type": "code",
   "execution_count": null,
   "metadata": {},
   "outputs": [],
   "source": [
    "place.upper()"
   ]
  },
  {
   "cell_type": "code",
   "execution_count": null,
   "metadata": {},
   "outputs": [],
   "source": [
    "place[0]"
   ]
  },
  {
   "cell_type": "code",
   "execution_count": null,
   "metadata": {},
   "outputs": [],
   "source": [
    "place[0:3]"
   ]
  },
  {
   "cell_type": "code",
   "execution_count": null,
   "metadata": {},
   "outputs": [],
   "source": [
    "place[-1]"
   ]
  },
  {
   "attachments": {},
   "cell_type": "markdown",
   "metadata": {
    "tags": []
   },
   "source": [
    "🧑‍💻  Now, write code that checks if the first letter and the last letter of a word are the same. If they are, print \"They are the same!\". Otherwise print \"They are different!\"."
   ]
  },
  {
   "cell_type": "code",
   "execution_count": null,
   "metadata": {},
   "outputs": [],
   "source": [
    "# TODO: Replace me with your code"
   ]
  },
  {
   "attachments": {},
   "cell_type": "markdown",
   "metadata": {
    "tags": []
   },
   "source": [
    "💡 Notice that you can access individual characters in a string using indexing.  \n",
    "\n",
    "This can be also useful for the datatype **list**.\n",
    "\n",
    "## Lists\n",
    "\n",
    "🧑‍💻  Run the below cells. Predict the output before running."
   ]
  },
  {
   "cell_type": "code",
   "execution_count": null,
   "metadata": {},
   "outputs": [],
   "source": [
    "activities = [\"Surfing\", \"Swimming\", \"Diving\"]\n",
    "activities"
   ]
  },
  {
   "attachments": {},
   "cell_type": "markdown",
   "metadata": {},
   "source": [
    "💡 Python lists are indexed starting at 0. "
   ]
  },
  {
   "cell_type": "code",
   "execution_count": null,
   "metadata": {},
   "outputs": [],
   "source": [
    "activities[0]"
   ]
  },
  {
   "cell_type": "code",
   "execution_count": null,
   "metadata": {},
   "outputs": [],
   "source": [
    "activities[-1]"
   ]
  },
  {
   "cell_type": "code",
   "execution_count": null,
   "metadata": {},
   "outputs": [],
   "source": [
    "len(activities)"
   ]
  },
  {
   "cell_type": "code",
   "execution_count": null,
   "metadata": {},
   "outputs": [],
   "source": [
    "numbers = [0, 1, 2]\n",
    "if numbers[1] == 0:\n",
    "    print('The first entry is 0')\n",
    "else:\n",
    "    print('The first entry is not 0')"
   ]
  },
  {
   "cell_type": "markdown",
   "metadata": {},
   "source": [
    "🧑‍💻  Run the following code to print out the last element in the list. "
   ]
  },
  {
   "cell_type": "code",
   "execution_count": null,
   "metadata": {},
   "outputs": [],
   "source": [
    "numbers[3]"
   ]
  },
  {
   "cell_type": "markdown",
   "metadata": {},
   "source": [
    "💡 Remember that lists are 0 indexed! Let's try this instead"
   ]
  },
  {
   "cell_type": "code",
   "execution_count": null,
   "metadata": {},
   "outputs": [],
   "source": [
    "numbers[len(numbers)]"
   ]
  },
  {
   "cell_type": "markdown",
   "metadata": {},
   "source": [
    "💡 Although lists are 0 indexed, the len() function still starts counting at 1"
   ]
  },
  {
   "cell_type": "code",
   "execution_count": null,
   "metadata": {},
   "outputs": [],
   "source": [
    "len(numbers)"
   ]
  },
  {
   "cell_type": "markdown",
   "metadata": {},
   "source": [
    "🧑‍💻  Write code that prints the last element from the list `numbers`"
   ]
  },
  {
   "cell_type": "code",
   "execution_count": null,
   "metadata": {},
   "outputs": [],
   "source": [
    "# TODO: Replace me with your code"
   ]
  },
  {
   "cell_type": "markdown",
   "metadata": {},
   "source": [
    "Off-by-one errors when indexing into lists is a common bug! That won't be the last time you see those error messages :) "
   ]
  },
  {
   "attachments": {},
   "cell_type": "markdown",
   "metadata": {},
   "source": [
    "💡 A list can contain any type of data:"
   ]
  },
  {
   "cell_type": "code",
   "execution_count": null,
   "metadata": {},
   "outputs": [],
   "source": [
    "mylist = [\"Hiking\", 29, True]"
   ]
  },
  {
   "attachments": {},
   "cell_type": "markdown",
   "metadata": {},
   "source": [
    "💡 Lists are mutable, that means they can be changed after creation."
   ]
  },
  {
   "cell_type": "code",
   "execution_count": null,
   "metadata": {},
   "outputs": [],
   "source": [
    "mylist[0] = \"Surfing\"\n",
    "mylist"
   ]
  },
  {
   "attachments": {},
   "cell_type": "markdown",
   "metadata": {},
   "source": [
    "🧑‍💻  Take the following list:  **l = [5, 10, 2, 8, 3]**.  \n",
    "Now write code that checks if the minimum value and the maximum value is greater than 6.  \n",
    "You can make use of the functions **min(l)** and **max(l)** for that.\n"
   ]
  },
  {
   "cell_type": "code",
   "execution_count": null,
   "metadata": {},
   "outputs": [],
   "source": [
    "l = [5, 10, 2, 8, 3]\n",
    "\n",
    "# TODO: Replace me with your code"
   ]
  },
  {
   "attachments": {},
   "cell_type": "markdown",
   "metadata": {},
   "source": [
    "## Dicts\n",
    "💡 A Python **dictionary** is a collection of key-value pairs. Each key in the dictionary must be unique, but values can repeat.\n",
    "🧑‍💻 Run the following code cells and checkout the results."
   ]
  },
  {
   "cell_type": "code",
   "execution_count": null,
   "metadata": {},
   "outputs": [],
   "source": [
    "d = {\"sand\": \"tiny grains\", \"shell\": \"sea creature home\", \"wave\": \"ocean's rhythm\"}\n",
    "d"
   ]
  },
  {
   "cell_type": "code",
   "execution_count": null,
   "metadata": {},
   "outputs": [],
   "source": [
    "d[\"sand\"] = \"small particles\"\n",
    "d"
   ]
  },
  {
   "cell_type": "code",
   "execution_count": null,
   "metadata": {},
   "outputs": [],
   "source": [
    "d[\"sun\"] = \"source of light\"\n",
    "d"
   ]
  },
  {
   "cell_type": "code",
   "execution_count": null,
   "metadata": {},
   "outputs": [],
   "source": [
    "del d[\"shell\"]\n",
    "d"
   ]
  },
  {
   "cell_type": "code",
   "execution_count": null,
   "metadata": {},
   "outputs": [],
   "source": [
    "list(d.keys())"
   ]
  },
  {
   "cell_type": "code",
   "execution_count": null,
   "metadata": {},
   "outputs": [],
   "source": [
    "list(d.values())"
   ]
  },
  {
   "cell_type": "code",
   "execution_count": null,
   "metadata": {},
   "outputs": [],
   "source": [
    "list(d.entries())"
   ]
  },
  {
   "attachments": {},
   "cell_type": "markdown",
   "metadata": {},
   "source": [
    "🧑‍💻  Print the value of the key `wave` from the dict `d`. Make sure to not forget the quotation marks."
   ]
  },
  {
   "cell_type": "code",
   "execution_count": null,
   "metadata": {},
   "outputs": [],
   "source": [
    "# TODO: Replace me with your code"
   ]
  },
  {
   "attachments": {},
   "cell_type": "markdown",
   "metadata": {},
   "source": [
    "🧑‍💻  Create a new dict called food_scores that has the name of foods as the keys and a score from 1-10 as the value.  "
   ]
  },
  {
   "cell_type": "code",
   "execution_count": null,
   "metadata": {},
   "outputs": [],
   "source": [
    "# TODO: Replace me with your code"
   ]
  },
  {
   "attachments": {},
   "cell_type": "markdown",
   "metadata": {},
   "source": [
    "🧑‍💻  Sum the values of the food_scores dictionary"
   ]
  },
  {
   "cell_type": "code",
   "execution_count": null,
   "metadata": {},
   "outputs": [],
   "source": [
    "# TODO: Replace me with your code"
   ]
  },
  {
   "cell_type": "markdown",
   "metadata": {},
   "source": [
    "💡 Dictionaries can have any data type as their value, including other dictionaries. These are called nested dictionaries.\n",
    "\n",
    "When creating nested dictionaries, it's often helpful to break each dictionary entry into a single line"
   ]
  },
  {
   "cell_type": "code",
   "execution_count": null,
   "metadata": {},
   "outputs": [],
   "source": [
    "{\n",
    "    1: {\n",
    "        'First Name': 'Aaron',\n",
    "        'Last Name': 'Diamond-Reivich'\n",
    "        },\n",
    "    2: {\n",
    "        'First Name': 'Nate',\n",
    "        'Last Name': 'Rush'\n",
    "    }\n",
    "}"
   ]
  },
  {
   "cell_type": "markdown",
   "metadata": {},
   "source": [
    "💡 Dictionaries can also have lists as their values. "
   ]
  },
  {
   "cell_type": "code",
   "execution_count": null,
   "metadata": {},
   "outputs": [],
   "source": [
    "{\n",
    "    'Programming Languages': ['Python', 'SQL', 'Javascript'],\n",
    "    'Programming Environments': ['Jupyter', 'VSCode']\n",
    "}"
   ]
  },
  {
   "attachments": {},
   "cell_type": "markdown",
   "metadata": {},
   "source": [
    "## Casting"
   ]
  },
  {
   "attachments": {},
   "cell_type": "markdown",
   "metadata": {},
   "source": [
    "💡 Converting one data types into another is called **casting**.  \n",
    "🧑‍💻 Run the following code"
   ]
  },
  {
   "cell_type": "code",
   "execution_count": null,
   "metadata": {},
   "outputs": [],
   "source": [
    "\n",
    "print(int(4))     # out: 4\n",
    "print(int(3.6))   # out: 3\n",
    "print(int(\"5\"))   # out: 5\n",
    "\n",
    "print(float(6))       # out: 6.0\n",
    "print(float(4.6))     # out: 4.6\n",
    "print(float(\"7\"))     # out: 7.0\n",
    "print(float(\"5.3\"))   # out: 5.3\n",
    "\n",
    "print(str(\"hello42\"))    # out: 'hello42'\n",
    "print(str(3))       # out: '3'\n",
    "print(str(4.5))     # out: '4.5'"
   ]
  },
  {
   "cell_type": "markdown",
   "metadata": {},
   "source": [
    "## Practice"
   ]
  },
  {
   "attachments": {},
   "cell_type": "markdown",
   "metadata": {},
   "source": [
    "🧑‍💻 The below code will throw an error message. Read the error message and try to fix the code."
   ]
  },
  {
   "cell_type": "code",
   "execution_count": null,
   "metadata": {},
   "outputs": [],
   "source": [
    "d = {\"sand\": \"tiny grains\", \"shell\": \"sea creature home\", \"wave\": \"ocean's rhythm\"}\n",
    "d[sand]"
   ]
  },
  {
   "cell_type": "code",
   "execution_count": null,
   "metadata": {},
   "outputs": [],
   "source": [
    "d = {\"sand\": \"tiny grains\", \"shell\": \"sea creature home\", \"wave\": \"ocean's rhythm\"}\n",
    "d['shel']"
   ]
  },
  {
   "attachments": {},
   "cell_type": "markdown",
   "metadata": {},
   "source": [
    "🧑‍💻 Check if `sun` is a key in the dictionary."
   ]
  },
  {
   "cell_type": "code",
   "execution_count": null,
   "metadata": {},
   "outputs": [],
   "source": [
    "# TODO: Replace me with your code"
   ]
  },
  {
   "attachments": {},
   "cell_type": "markdown",
   "metadata": {},
   "source": [
    "🧑‍💻 Change the value of \"b\" to 4 and add a new key \"d\" with the value 5."
   ]
  },
  {
   "cell_type": "code",
   "execution_count": null,
   "metadata": {},
   "outputs": [],
   "source": [
    "d = {\"a\": 1, \"b\": 2, \"c\": 3}\n",
    "\n",
    "# TODO: Replace me with your code"
   ]
  },
  {
   "attachments": {},
   "cell_type": "markdown",
   "metadata": {},
   "source": [
    "🧑‍💻 Convert the list [\"Surfing\", \"Swimming\", \"Diving\"] to a string with the elements joined by a comma. \n",
    "\n",
    "Hint: Use the str.join() method -- try looking it up on Stack Overflow. "
   ]
  },
  {
   "cell_type": "code",
   "execution_count": null,
   "metadata": {},
   "outputs": [],
   "source": [
    "activities = [\"Surfing\", \"Swimming\", \"Diving\"]\n",
    "\n",
    "# TODO: Replace me with your code"
   ]
  },
  {
   "attachments": {},
   "cell_type": "markdown",
   "metadata": {},
   "source": [
    "🧑‍💻 Create a list of 5 integers. Calculate the sum of the elements in the list using Python's built-in sum() function."
   ]
  },
  {
   "cell_type": "code",
   "execution_count": null,
   "metadata": {},
   "outputs": [],
   "source": [
    "# TODO: Replace me with your code"
   ]
  },
  {
   "attachments": {},
   "cell_type": "markdown",
   "metadata": {
    "tags": []
   },
   "source": [
    "🧑‍💻 Given two strings, s1 and s2, concatenate them and then find the length of the resulting string."
   ]
  },
  {
   "cell_type": "code",
   "execution_count": null,
   "metadata": {},
   "outputs": [],
   "source": [
    "s1 = 'First String'\n",
    "s2 = 'Second String'\n",
    "# TODO: Replace me with your code"
   ]
  },
  {
   "attachments": {},
   "cell_type": "markdown",
   "metadata": {},
   "source": [
    "Well done, let's move on to the next notebook!"
   ]
  },
  {
   "cell_type": "markdown",
   "metadata": {},
   "source": []
  }
 ],
 "metadata": {
  "kernelspec": {
   "display_name": "Python 3.9.6 64-bit",
   "language": "python",
   "name": "python3"
  },
  "language_info": {
   "codemirror_mode": {
    "name": "ipython",
    "version": 3
   },
   "file_extension": ".py",
   "mimetype": "text/x-python",
   "name": "python",
   "nbconvert_exporter": "python",
   "pygments_lexer": "ipython3",
   "version": "3.9.6"
  },
  "vscode": {
   "interpreter": {
    "hash": "31f2aee4e71d21fbe5cf8b01ff0e069b9275f58929596ceb00d14d90e3e16cd6"
   }
  }
 },
 "nbformat": 4,
 "nbformat_minor": 4
}
