{
 "cells": [
  {
   "attachments": {},
   "cell_type": "markdown",
   "metadata": {},
   "source": [
    "# Jupyter Notebook Basics"
   ]
  },
  {
   "attachments": {},
   "cell_type": "markdown",
   "metadata": {
    "vscode": {
     "languageId": "plaintext"
    }
   },
   "source": [
    "Welcome to this first hands on training session.  \n",
    "\n",
    "Anytime you need assistence in the exploration of the Jupyter datascience universers, \n",
    "\n",
    "In all tutorials you will find these two symbols for certain elements.  \n",
    "The computer 🧑‍💻 means there's a **task** waiting for you, the lightbulb 💡 means thers an important **information**.\n",
    "\n",
    "\n",
    "In next comming days you will encounter a lot of these documents calles Jupyter notebooks.  \n",
    "\n",
    "It's like a python script, but interactive.  \n",
    "\n",
    "Let's run the first program, which prints \"hello world\"  \n",
    "\n",
    "**💡 Info**  On Windows, you can press Control+Enter to run that cell.  "
   ]
  },
  {
   "attachments": {},
   "cell_type": "markdown",
   "metadata": {},
   "source": [
    "🧑‍💻 Task 1 - run this cell"
   ]
  },
  {
   "cell_type": "code",
   "execution_count": null,
   "metadata": {},
   "outputs": [],
   "source": [
    "print(\"hello world\")"
   ]
  },
  {
   "attachments": {},
   "cell_type": "markdown",
   "metadata": {},
   "source": [
    "Hurry, we just printed our first python in an interactive notebook!  \n",
    "Note that the pattern is input cell -> output of the cell.\n",
    "\n",
    "💡 You can also run and cells after each other by pressing \"Shift + Enter\".\n"
   ]
  },
  {
   "cell_type": "code",
   "execution_count": null,
   "metadata": {},
   "outputs": [],
   "source": [
    "i = 5"
   ]
  },
  {
   "cell_type": "code",
   "execution_count": null,
   "metadata": {},
   "outputs": [],
   "source": [
    "i = i+1\n",
    "print(i)"
   ]
  },
  {
   "attachments": {},
   "cell_type": "markdown",
   "metadata": {},
   "source": [
    "🧑‍💻 Task 2 - execute the previous cell 5 times\n",
    "\n",
    "you will see that i is increasing everytime!  \n",
    "That's because python remembers every single execution.  \n",
    "That's important to keep in mind, and ecspecially when you run a lot cells, you should restart the kernel to start fresh.\n",
    "\n",
    "🧑‍💻 Task 3 - restart the kernel and re-run the whole notebook\n",
    "\n"
   ]
  },
  {
   "attachments": {},
   "cell_type": "markdown",
   "metadata": {},
   "source": [
    "Now you know about Cell execution,Inputs,Outputs,  Restating Kernel and Double Cell Execution   \n",
    "What comes next are widgets.  \n",
    "💡 These widgets are interactive elements\n",
    "\n",
    "🧑‍💻 Task 4 - Set new min and max values to the below slider and slide it left and right with your mouse"
   ]
  },
  {
   "cell_type": "code",
   "execution_count": null,
   "metadata": {},
   "outputs": [],
   "source": [
    "from ipywidgets import FloatSlider\n",
    "FloatSlider(min=0, max=10)"
   ]
  },
  {
   "attachments": {},
   "cell_type": "markdown",
   "metadata": {},
   "source": [
    "That was a quite simple widget, but there's more exciting things that can be done:  \n",
    "💡 Mito sheets are also widgets!"
   ]
  },
  {
   "cell_type": "code",
   "execution_count": null,
   "metadata": {},
   "outputs": [],
   "source": [
    "import mitosheet\n",
    "mitosheet.sheet()"
   ]
  },
  {
   "attachments": {},
   "cell_type": "markdown",
   "metadata": {},
   "source": [
    "Well done!  \n",
    "Now we go on the next notebook."
   ]
  }
 ],
 "metadata": {
  "kernelspec": {
   "display_name": "Python 3 (ipykernel)",
   "language": "python",
   "name": "python3"
  },
  "language_info": {
   "codemirror_mode": {
    "name": "ipython",
    "version": 3
   },
   "file_extension": ".py",
   "mimetype": "text/x-python",
   "name": "python",
   "nbconvert_exporter": "python",
   "pygments_lexer": "ipython3",
   "version": "3.8.5"
  }
 },
 "nbformat": 4,
 "nbformat_minor": 4
}
