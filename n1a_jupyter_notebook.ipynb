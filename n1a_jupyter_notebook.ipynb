{
 "cells": [
  {
   "attachments": {},
   "cell_type": "markdown",
   "metadata": {
    "vscode": {
     "languageId": "plaintext"
    }
   },
   "source": [
    "## Welcome to th mito-hands on session! 👋\n",
    "\n",
    "Over the next three days, we from mito will spice up your analysis-automation toolbox with python, pandas and mito.  \n",
    "\n",
    "Wheter you're already familiar with Pyhton or if youre last coding class already layes a few years in the past,\n",
    "these training notebooks will first refresh you're coding skills by repeating the most importnant basics concepts.  \n",
    "\n",
    "As soon as we have common ground, we'll get into the exciting analsis part.\n",
    "\n",
    "And be asured: There won't be any theoretical explainations with technical terms.  \n",
    "This course is handons where you will learn the concepts that you need to know for real-live application.  \n",
    "At one point you will realize that writing automation tools in python can be very satisfying!  \n",
    "Our job from mito is to make sure to get you there over the next days.\n",
    "\n",
    "Things to know before we start:\n",
    "* 💡 -> the lightbulb emoji means thers an **important information**.\n",
    "* 🧑‍💻 -> the Person Behind Computer emoji means thers an **task** waiting for you.\n",
    "* This is not an exam, it's a challange to learn something new. It's absoultely normal to get stuck at some point. don't hesitate to ask Jake, Nate, Aaron from Mito, any question, they are more then happy to answer all your question. You can also ask your seat neighbour, Google, Stackoverflow or even ChatGPT.\n",
    "* Most imporantly: Enjoy the joureny!"
   ]
  },
  {
   "attachments": {},
   "cell_type": "markdown",
   "metadata": {},
   "source": [
    "\n",
    "\n",
    "# Jupyter Notebook Basics\n",
    "\n",
    "In next comming days you will encounter a lot of these documents with the `.ipynb` filename ending calles Jupyter notebooks.  \n",
    "\n",
    "\n",
    "\n",
    "It's like a python script, but interactive.  \n",
    "\n",
    "\n",
    "Let's run the first program, which prints \"hello world\"  \n",
    "\n",
    "💡 On Windows, you can press **Control+Enter** to run that cell.  \n",
    "\n",
    "🧑‍💻 First task: Run the below cell"
   ]
  },
  {
   "cell_type": "code",
   "execution_count": null,
   "metadata": {
    "tags": []
   },
   "outputs": [],
   "source": [
    "print(\"hello world\")"
   ]
  },
  {
   "attachments": {},
   "cell_type": "markdown",
   "metadata": {},
   "source": [
    "Hurry, we just printed our first python in an interactive notebook!  \n",
    "\n",
    "Notice that there is the **notebook code cell**, followed by the **notebook cell output**.  \n",
    "And what you're reading right now is a third element called a **markdown cell**.  \n",
    "Markdown is a simple but powerfull markup language.  \n",
    "\n",
    "💡 you can convert a **notebook code cell** to **markdown cell** by pressing \"m\"  \n",
    "💡 you can convert a **markdown cell** to **notebook code cell** by pressing \"y\"  \n",
    "\n",
    "🧑‍💻 Now, convert the below cell to a markdown cell."
   ]
  },
  {
   "cell_type": "code",
   "execution_count": null,
   "metadata": {
    "tags": []
   },
   "outputs": [],
   "source": [
    "\"Hello World\""
   ]
  },
  {
   "attachments": {},
   "cell_type": "markdown",
   "metadata": {},
   "source": [
    "💡 In markdown, putting a star \"*\" left and right to a word will make it italic.  \n",
    "💡 Two stars \"**\" will make it bold.  \n",
    "\n",
    "When you're using Whatsapp, you already know the syntax.  \n",
    "\n",
    "🧑‍💻 Now, make the text bold and italic in the above cell.  \n",
    "\n",
    "💡 You can also run and cells after each other by pressing **Shift + Enter**.\n",
    "\n",
    "🧑‍💻 Run the following 2 cells.\n"
   ]
  },
  {
   "cell_type": "code",
   "execution_count": null,
   "metadata": {
    "tags": []
   },
   "outputs": [],
   "source": [
    "i = 5"
   ]
  },
  {
   "cell_type": "code",
   "execution_count": null,
   "metadata": {
    "tags": []
   },
   "outputs": [],
   "source": [
    "i = i+1\n",
    "print(i)"
   ]
  },
  {
   "attachments": {},
   "cell_type": "markdown",
   "metadata": {},
   "source": [
    "🧑‍💻 Execute the previous cell 5 times\n",
    "\n",
    "you will see that i is increasing everytime!  \n",
    "That's because python remembers every single execution.  \n",
    "That's important to keep in mind, and ecspecially when you run a lot cells, you should restart the kernel to start fresh.\n",
    "\n",
    "🧑‍💻 Restart the kernel and re-run the whole notebook\n",
    "\n",
    "Now you know about Cell execution,Inputs,Outputs,  Restating Kernel and Double Cell Execution   \n",
    "What comes next are widgets.  \n",
    "\n",
    "💡 These widgets are interactive elements\n",
    "\n",
    "🧑‍💻 Set new min and max values to the below slider and slide it left and right with your mouse\n"
   ]
  },
  {
   "cell_type": "code",
   "execution_count": null,
   "metadata": {
    "tags": []
   },
   "outputs": [],
   "source": [
    "from ipywidgets import FloatSlider\n",
    "FloatSlider(min=0, max=10)"
   ]
  },
  {
   "attachments": {},
   "cell_type": "markdown",
   "metadata": {},
   "source": [
    "That was a quite simple widget, but there's more exciting things that can be done:   \n",
    "\n",
    "💡 Mito sheets are also widgets!"
   ]
  },
  {
   "cell_type": "code",
   "execution_count": null,
   "metadata": {
    "tags": []
   },
   "outputs": [],
   "source": [
    "import mitosheet\n",
    "mitosheet.sheet(analysis_to_replay=\"id-ahuxdfzval\")"
   ]
  },
  {
   "cell_type": "code",
   "execution_count": null,
   "metadata": {},
   "outputs": [],
   "source": []
  },
  {
   "attachments": {},
   "cell_type": "markdown",
   "metadata": {},
   "source": [
    "Shortcuts will boost your productivity to quickly navigate thorugh your notebook.\n",
    "\n",
    "💡 Use the \"Up\" and \"Down\" Keys to select the prev./next cell.  \n",
    "💡 Use the \"b\" key to insert a cell below.  \n",
    "💡 Tap the \"d\" key twice to delete a cell.  \n",
    "\n",
    "🧑‍💻 Now, create 5 cells below, and then delete them again."
   ]
  },
  {
   "attachments": {},
   "cell_type": "markdown",
   "metadata": {},
   "source": []
  },
  {
   "cell_type": "code",
   "execution_count": null,
   "metadata": {},
   "outputs": [],
   "source": []
  },
  {
   "attachments": {},
   "cell_type": "markdown",
   "metadata": {},
   "source": [
    "Well done!  \n",
    "Now we go on the next notebook."
   ]
  }
 ],
 "metadata": {
  "kernelspec": {
   "display_name": "Python 3 (ipykernel)",
   "language": "python",
   "name": "python3"
  },
  "language_info": {
   "codemirror_mode": {
    "name": "ipython",
    "version": 3
   },
   "file_extension": ".py",
   "mimetype": "text/x-python",
   "name": "python",
   "nbconvert_exporter": "python",
   "pygments_lexer": "ipython3",
   "version": "3.11.4"
  }
 },
 "nbformat": 4,
 "nbformat_minor": 4
}
