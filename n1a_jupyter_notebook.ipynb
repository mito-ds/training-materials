{
 "cells": [
  {
   "attachments": {},
   "cell_type": "markdown",
   "metadata": {
    "vscode": {
     "languageId": "plaintext"
    }
   },
   "source": [
    "## Welcome to th mito-hands on session! 👋\n",
    "\n",
    "Over the next three days, we from mito will spice up your analysis-automation toolbox with python, pandas and mito.  \n",
    "\n",
    "Wheter you're already familiar with Pyhton or if youre last coding class already layes a few years in the past,\n",
    "these training notebooks will first refresh you're coding skills by repeating the most importnant basics concepts.  \n",
    "\n",
    "As soon as we have common ground, we'll get into the exciting analsis part.\n",
    "\n",
    "And be asured: There won't be any theoretical explainations with technical terms.  \n",
    "This is a handson course where you will learn what you need to know for real-live application.  \n",
    "At one point you will realize that writing automation tools in python can be very satisfying.\n",
    "\n",
    "Things to know before we start:\n",
    "* 💡 -> the lightbulb emoji means thers an **important information**.\n",
    "* 🧑‍💻 -> the Person Behind Computer emoji means thers an **task** waiting for you.\n",
    "* This is not an exam, it's a challange to learn something new. It's absoultely normal to get stuck at some point. don't hesitate to ask Jake, Nate, Aaron from Mito, any question, they are more then happy to hear your question. You can also ask your seat neighbour, Google, Stackoverflow or even ChatGPT.\n",
    "* Most imporantly: Enjoy the joureny!"
   ]
  },
  {
   "attachments": {},
   "cell_type": "markdown",
   "metadata": {},
   "source": [
    "\n",
    "\n",
    "# Jupyter Notebook Basics\n",
    "\n",
    "In next comming days you will encounter a lot of these documents calles Jupyter notebooks.  \n",
    "\n",
    "\n",
    "\n",
    "It's like a python script, but interactive.  \n",
    "\n",
    "\n",
    "Let's run the first program, which prints \"hello world\"  \n",
    "\n",
    "💡 Info - On Windows, you can press Control+Enter to run that cell.  "
   ]
  },
  {
   "attachments": {},
   "cell_type": "markdown",
   "metadata": {},
   "source": [
    "🧑‍💻 Task 1 - run this cell"
   ]
  },
  {
   "cell_type": "code",
   "execution_count": null,
   "metadata": {},
   "outputs": [],
   "source": [
    "print(\"hello world\")"
   ]
  },
  {
   "attachments": {},
   "cell_type": "markdown",
   "metadata": {},
   "source": [
    "Hurry, we just printed our first python in an interactive notebook!  \n",
    "Notice that there is the notebook codecell, followed by the notebook cell output."
   ]
  },
  {
   "attachments": {},
   "cell_type": "markdown",
   "metadata": {},
   "source": [
    "💡 You can also run and cells after each other by pressing \"Shift + Enter\".\n",
    "\n",
    "🧑‍💻 Task X - run the following 2 cells."
   ]
  },
  {
   "cell_type": "code",
   "execution_count": null,
   "metadata": {},
   "outputs": [],
   "source": [
    "i = 5"
   ]
  },
  {
   "cell_type": "code",
   "execution_count": null,
   "metadata": {},
   "outputs": [],
   "source": [
    "i = i+1\n",
    "print(i)"
   ]
  },
  {
   "attachments": {},
   "cell_type": "markdown",
   "metadata": {},
   "source": [
    "🧑‍💻 Task 2 - execute the previous cell 5 times\n",
    "\n",
    "you will see that i is increasing everytime!  \n",
    "That's because python remembers every single execution.  \n",
    "That's important to keep in mind, and ecspecially when you run a lot cells, you should restart the kernel to start fresh.\n",
    "\n",
    "🧑‍💻 Task 3 - restart the kernel and re-run the whole notebook\n",
    "\n"
   ]
  },
  {
   "attachments": {},
   "cell_type": "markdown",
   "metadata": {},
   "source": [
    "Now you know about Cell execution,Inputs,Outputs,  Restating Kernel and Double Cell Execution   \n",
    "What comes next are widgets.  \n",
    "💡 These widgets are interactive elements\n",
    "\n",
    "🧑‍💻 Task 4 - Set new min and max values to the below slider and slide it left and right with your mouse"
   ]
  },
  {
   "cell_type": "code",
   "execution_count": null,
   "metadata": {},
   "outputs": [],
   "source": [
    "from ipywidgets import FloatSlider\n",
    "FloatSlider(min=0, max=10)"
   ]
  },
  {
   "attachments": {},
   "cell_type": "markdown",
   "metadata": {},
   "source": [
    "That was a quite simple widget, but there's more exciting things that can be done:  \n",
    "💡 Mito sheets are also widgets!"
   ]
  },
  {
   "cell_type": "code",
   "execution_count": null,
   "metadata": {},
   "outputs": [],
   "source": [
    "import mitosheet\n",
    "mitosheet.sheet()"
   ]
  },
  {
   "attachments": {},
   "cell_type": "markdown",
   "metadata": {},
   "source": [
    "Well done!  \n",
    "Now we go on the next notebook."
   ]
  }
 ],
 "metadata": {
  "kernelspec": {
   "display_name": "Python 3 (ipykernel)",
   "language": "python",
   "name": "python3"
  },
  "language_info": {
   "codemirror_mode": {
    "name": "ipython",
    "version": 3
   },
   "file_extension": ".py",
   "mimetype": "text/x-python",
   "name": "python",
   "nbconvert_exporter": "python",
   "pygments_lexer": "ipython3",
   "version": "3.11.4"
  }
 },
 "nbformat": 4,
 "nbformat_minor": 4
}
