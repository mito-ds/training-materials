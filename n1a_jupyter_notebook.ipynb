{
 "cells": [
  {
   "attachments": {},
   "cell_type": "markdown",
   "metadata": {
    "vscode": {
     "languageId": "plaintext"
    }
   },
   "source": [
    "## Welcome to Getting Started with Python Automation! 👋\n",
    "\n",
    "This course teaches you all of the tools you need automate repetitive reporting -- starting from the basics: Jupyter, Python and Mito. \n",
    "\n",
    "The course focuses on building Python skills that will be helpful to you in practice, leaving behind a lot of the theoretical explanations you might find in other courses. \n",
    "\n",
    "The goal of this course is to demistify the Python basics so you have the confidence to start applying Python automations in your day-to-day work.\n",
    "\n",
    "Things to know before we start:\n",
    "* 💡 -> the lightbulb emoji means thers an **important information**.\n",
    "* 🧑‍💻 -> the Person Behind Computer emoji means thers an **task** waiting for you.\n",
    "* This is not an exam, it's an opportunity to learn something new. You will get stuck at some point -- don't hesitate to ask questions to the Mito team, your colleagues, or Stack Overflow.\n",
    "* Most imporantly: Enjoy the joureny!"
   ]
  },
  {
   "attachments": {},
   "cell_type": "markdown",
   "metadata": {},
   "source": [
    "# Jupyter Notebook Basics\n",
    "⏱️ 15 min.\n",
    "\n",
    "Throughout the course you will encounter a lot of these documents ending in `.ipynb`.  \n",
    "It's the Jupyter notebook file format, and where we will write all of our Python code!  \n",
    "\n",
    "It's like a python script, but interactive.  \n",
    "\n",
    "Let's run the first program, which prints \"hello world\"  \n",
    "\n",
    "💡 Press **Shift+Enter** to run the code cell.\n",
    "\n",
    "🧑‍💻 First task: Run the below code cell"
   ]
  },
  {
   "cell_type": "code",
   "execution_count": null,
   "metadata": {
    "tags": []
   },
   "outputs": [],
   "source": [
    "print(\"hello world\")"
   ]
  },
  {
   "attachments": {},
   "cell_type": "markdown",
   "metadata": {},
   "source": [
    "Huzzah, we just ran our first bit of Python code in a Juptyer notebook.\n",
    "\n",
    "Notice that there is the **notebook code cell**, followed by the **notebook cell output**.  \n",
    "And what you're reading right now is a third element called a **markdown cell**. \n",
    "\n",
    "Markdown cells are useful for documenting your work!\n",
    "\n",
    "💡 You can convert a **notebook code cell** to **markdown cell** by pressing \"m\"  \n",
    "💡 You can convert a **markdown cell** to **notebook code cell** by pressing \"y\"  \n",
    "\n",
    "🧑‍💻 Now, convert the below cell to a markdown cell."
   ]
  },
  {
   "cell_type": "code",
   "execution_count": null,
   "metadata": {
    "tags": []
   },
   "outputs": [],
   "source": [
    "Hello World"
   ]
  },
  {
   "attachments": {},
   "cell_type": "markdown",
   "metadata": {},
   "source": [
    "💡 Adding a # in front of a line in markdown will convert it into a header.  \n",
    "\n",
    "🧑‍💻 Now, add the title **# Hi!** to the above markdown cell.\n",
    "\n",
    "💡 Each time you run a cell, the next cell becomes active. You can run several cells in a row by continuing to press **Shift + Enter**.\n",
    "\n",
    "🧑‍💻 Run the following 2 cells.\n"
   ]
  },
  {
   "cell_type": "code",
   "execution_count": null,
   "metadata": {
    "tags": []
   },
   "outputs": [],
   "source": [
    "i = 5"
   ]
  },
  {
   "cell_type": "code",
   "execution_count": null,
   "metadata": {
    "tags": []
   },
   "outputs": [],
   "source": [
    "i = i+1\n",
    "print(i)"
   ]
  },
  {
   "attachments": {},
   "cell_type": "markdown",
   "metadata": {},
   "source": [
    "🧑‍💻 Execute the previous cell 5 times\n",
    "\n",
    "You should see that i increases everytime! That's because Python remembers what you've previously executed.  \n",
    "That's important to keep in mind, ecspecially when your Python scripts become more complex.\n",
    "\n",
    "It's considered be best practice when the final notebook can run from top to bottom.  \n",
    "But when iterating and tweaking your analysis workflow, you will often find yourself executing cells in a non-cronolgical order.  \n",
    "While executing cells, you will notice a little execution number left to of each cell. That number will increment each time you run a cell.  \n",
    "\n",
    "💡 Having a very long execution history might lead to unused variables or even bugs, so it's recommended to restart the kernel from time to time. \n",
    "\n",
    "\n",
    "🧑‍💻  Find the \"Restart the kernel\" button in the above toolbar. Restart the kernel, execute the above cell again and see how the value is reset.\n",
    "\n",
    "<br>\n",
    "\n",
    "Now you know about Cell execution, Inputs, Outputs, Restating Kernel and Double Cell Execution.\n",
    "   \n",
    "What comes next are **widgets**.  \n",
    "\n",
    "💡 These widgets are interactive elements\n",
    "\n",
    "🧑‍💻 Set new min and max values to the below slider and slide it left and right with your mouse\n"
   ]
  },
  {
   "cell_type": "code",
   "execution_count": null,
   "metadata": {
    "tags": []
   },
   "outputs": [],
   "source": [
    "from ipywidgets import FloatSlider\n",
    "FloatSlider(min=0, max=10)"
   ]
  },
  {
   "attachments": {},
   "cell_type": "markdown",
   "metadata": {},
   "source": [
    "That was a quite simple widget, but there's more exciting things that can be done:   \n",
    "\n",
    "💡 Mito sheets are also widgets!"
   ]
  },
  {
   "cell_type": "code",
   "execution_count": null,
   "metadata": {
    "tags": []
   },
   "outputs": [],
   "source": [
    "import mitosheet\n",
    "mitosheet.sheet()"
   ]
  },
  {
   "attachments": {},
   "cell_type": "markdown",
   "metadata": {},
   "source": [
    "💡 If you don't need the cell output anymore is also a  button to clear all cell output. Pressing that won't restart the kernel.\n"
   ]
  },
  {
   "attachments": {},
   "cell_type": "markdown",
   "metadata": {},
   "source": [
    "Notebook shortcuts will boost your productivity! \n",
    "\n",
    "💡 Use the \"Up\" and \"Down\" Keys to select the prev/next cell.  \n",
    "💡 Use the \"a\" key to insert a cell above.  \n",
    "💡 Use the \"b\" key to insert a cell below.  \n",
    "💡 Double tap the \"d\" to delete a cell.  \n",
    "\n",
    "🧑‍💻 Try, some of these shortcuts below."
   ]
  },
  {
   "cell_type": "code",
   "execution_count": null,
   "metadata": {},
   "outputs": [],
   "source": []
  },
  {
   "attachments": {},
   "cell_type": "markdown",
   "metadata": {},
   "source": [
    "Well done! You just learned the basics of Jupyter notebooks. \n",
    "Head over to the next notebook where we'll start to learn some Python fundamentals. "
   ]
  }
 ],
 "metadata": {
  "kernelspec": {
   "display_name": "Python 3.9.6 64-bit",
   "language": "python",
   "name": "python3"
  },
  "language_info": {
   "codemirror_mode": {
    "name": "ipython",
    "version": 3
   },
   "file_extension": ".py",
   "mimetype": "text/x-python",
   "name": "python",
   "nbconvert_exporter": "python",
   "pygments_lexer": "ipython3",
   "version": "3.9.6"
  },
  "vscode": {
   "interpreter": {
    "hash": "31f2aee4e71d21fbe5cf8b01ff0e069b9275f58929596ceb00d14d90e3e16cd6"
   }
  }
 },
 "nbformat": 4,
 "nbformat_minor": 4
}
